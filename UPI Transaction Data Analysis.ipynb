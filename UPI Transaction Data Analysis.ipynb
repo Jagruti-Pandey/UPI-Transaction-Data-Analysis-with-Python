{
 "cells": [
  {
   "cell_type": "markdown",
   "id": "34d3708c",
   "metadata": {},
   "source": [
    "Introduction of UPI Transaction Data Analysis\n",
    "\n",
    "Unified Payments Interface (UPI) has revolutionized digital payments in India by providing an instant, real-time payment system developed by the National Payments Corporation of India (NPCI). With UPI, users can transfer money between bank accounts using their smartphones without entering banking details, making transactions seamless, secure, and convenient.\n",
    "\n",
    "As UPI adoption has grown rapidly across individuals, businesses, and merchants, analyzing UPI transaction data provides valuable insights into user behavior, payment trends, device usage, transaction failures, and bank performance.\n",
    "\n",
    "This project involves analyzing UPI transaction data to identify patterns, discover hidden insights, and visualize key performance indicators that help understand how people use digital payments in day-to-day life."
   ]
  },
  {
   "cell_type": "markdown",
   "id": "818dce83",
   "metadata": {},
   "source": [
    "Objective\n",
    "\n",
    "The main objectives of this UPI Transaction Data Analysis are:\n",
    "\n",
    "Understand Transaction Patterns\n",
    "Analyze transaction volumes by time, location, user, and device to identify common trends.\n",
    "\n",
    "Measure Success and Failure Rates\n",
    "Identify how many transactions fail and explore possible reasons or patterns behind failures.\n",
    "\n",
    "Track Usage by Bank, Merchant, and Device\n",
    "Evaluate which banks, merchants, and device types are most commonly used for UPI transactions.\n",
    "\n",
    "Analyze User Behavior\n",
    "Examine user activity by gender, city, transaction type (P2P vs P2M), and day of the week.\n",
    "\n",
    "Visualize Key Metrics\n",
    "Create interactive charts and dashboards to present findings in a simple and meaningful way using tools like Python and Plotly.\n",
    "\n",
    "Support Data-Driven Decisions\n",
    "Provide insights that can help fintech companies, digital payment platforms, or researchers make informed decisions."
   ]
  },
  {
   "cell_type": "markdown",
   "id": "b5a4cf1a",
   "metadata": {},
   "source": [
    "Table of Contents\n",
    "1.Total Number of UPI Transactions\n",
    "2.Total Transactions Amount\n",
    "3.City Wise Transaction Count\n",
    "4.Age Group with Highest Transactions\n",
    "5.Most Used Device Type\n",
    "6.Most Used Payment Method\n",
    "7.Top 5 merchant by amount\n",
    "8.Transaction success vs failure\n",
    "9.Bank with highest number of failed transactions\n",
    "10.Average Transaction Value\n",
    "11.Currency-Wise Transaction Summary\n",
    "12.Purpose with Highest Transaction Volume\n",
    "13.Gender-Wise Transaction Count\n",
    "14.Which merchant received highest number of UPI payments\n",
    "15.P2P transaction share\n",
    "16.Gender-wise Average Transaction Amount\n",
    "17.Which transaction purpose is most likely to fail\n",
    "18.What is the total transaction value handled by each bank\n",
    "19.Daily transaction trend\n",
    "20.What is the standard deviation of transaction amounts across all users\n",
    "21.Which merchants are most popular (Bar Chart)\n",
    "22.Top cities with most transactions (Bar Chart)\n",
    "23.What % of transactions are above ₹500 (Donut Chart)\n",
    "24.Top 5 users by total spending (Bar Chart)\n",
    "25.How are P2P and P2M transactions distributed (Pie Chart)"
   ]
  },
  {
   "cell_type": "markdown",
   "id": "1a7e9713",
   "metadata": {},
   "source": [
    "Required Libraries"
   ]
  },
  {
   "cell_type": "code",
   "execution_count": 2,
   "id": "e0828a5d",
   "metadata": {},
   "outputs": [],
   "source": [
    "import pandas as pd\n",
    "import plotly.express as px\n",
    "import plotly.graph_objects as go"
   ]
  },
  {
   "cell_type": "markdown",
   "id": "06ec15c5",
   "metadata": {},
   "source": [
    "Loading Dataset"
   ]
  },
  {
   "cell_type": "code",
   "execution_count": 1,
   "id": "62b9beb4",
   "metadata": {},
   "outputs": [],
   "source": [
    "import pandas as pd\n",
    "df=pd.read_excel(r\"C:\\Users\\Jagruti pandey\\Downloads\\UPI+Transactions.xlsx\")"
   ]
  },
  {
   "cell_type": "code",
   "execution_count": 3,
   "id": "78b83df1",
   "metadata": {},
   "outputs": [
    {
     "data": {
      "text/html": [
       "<div>\n",
       "<style scoped>\n",
       "    .dataframe tbody tr th:only-of-type {\n",
       "        vertical-align: middle;\n",
       "    }\n",
       "\n",
       "    .dataframe tbody tr th {\n",
       "        vertical-align: top;\n",
       "    }\n",
       "\n",
       "    .dataframe thead th {\n",
       "        text-align: right;\n",
       "    }\n",
       "</style>\n",
       "<table border=\"1\" class=\"dataframe\">\n",
       "  <thead>\n",
       "    <tr style=\"text-align: right;\">\n",
       "      <th></th>\n",
       "      <th>TransactionID</th>\n",
       "      <th>TransactionDate</th>\n",
       "      <th>Amount</th>\n",
       "      <th>BankNameSent</th>\n",
       "      <th>BankNameReceived</th>\n",
       "      <th>RemainingBalance</th>\n",
       "      <th>City</th>\n",
       "      <th>Gender</th>\n",
       "      <th>TransactionType</th>\n",
       "      <th>Status</th>\n",
       "      <th>TransactionTime</th>\n",
       "      <th>DeviceType</th>\n",
       "      <th>PaymentMethod</th>\n",
       "      <th>MerchantName</th>\n",
       "      <th>Purpose</th>\n",
       "      <th>CustomerAge</th>\n",
       "      <th>PaymentMode</th>\n",
       "      <th>Currency</th>\n",
       "      <th>CustomerAccountNumber</th>\n",
       "      <th>MerchantAccountNumber</th>\n",
       "    </tr>\n",
       "  </thead>\n",
       "  <tbody>\n",
       "    <tr>\n",
       "      <th>0</th>\n",
       "      <td>TXN00001</td>\n",
       "      <td>2024-02-02</td>\n",
       "      <td>1271.64</td>\n",
       "      <td>SBI Bank</td>\n",
       "      <td>HDFC Bank</td>\n",
       "      <td>5557.02</td>\n",
       "      <td>Mumbai</td>\n",
       "      <td>Female</td>\n",
       "      <td>Payment</td>\n",
       "      <td>Success</td>\n",
       "      <td>17:12:14</td>\n",
       "      <td>Tablet</td>\n",
       "      <td>Phone Number</td>\n",
       "      <td>Amazon</td>\n",
       "      <td>Food</td>\n",
       "      <td>21</td>\n",
       "      <td>Scheduled</td>\n",
       "      <td>USD</td>\n",
       "      <td>123456789013</td>\n",
       "      <td>987654321013</td>\n",
       "    </tr>\n",
       "    <tr>\n",
       "      <th>1</th>\n",
       "      <td>TXN00002</td>\n",
       "      <td>2024-03-03</td>\n",
       "      <td>1064.63</td>\n",
       "      <td>SBI Bank</td>\n",
       "      <td>SBI Bank</td>\n",
       "      <td>9753.32</td>\n",
       "      <td>Mumbai</td>\n",
       "      <td>Female</td>\n",
       "      <td>Payment</td>\n",
       "      <td>Success</td>\n",
       "      <td>11:15:02</td>\n",
       "      <td>Laptop</td>\n",
       "      <td>QR Code</td>\n",
       "      <td>Amazon</td>\n",
       "      <td>Food</td>\n",
       "      <td>22</td>\n",
       "      <td>Instant</td>\n",
       "      <td>EUR</td>\n",
       "      <td>123456789014</td>\n",
       "      <td>987654321014</td>\n",
       "    </tr>\n",
       "    <tr>\n",
       "      <th>2</th>\n",
       "      <td>TXN00003</td>\n",
       "      <td>2024-04-04</td>\n",
       "      <td>1114.51</td>\n",
       "      <td>SBI Bank</td>\n",
       "      <td>Axis Bank</td>\n",
       "      <td>7597.35</td>\n",
       "      <td>Mumbai</td>\n",
       "      <td>Female</td>\n",
       "      <td>Payment</td>\n",
       "      <td>Success</td>\n",
       "      <td>21:29:39</td>\n",
       "      <td>Mobile</td>\n",
       "      <td>UPI ID</td>\n",
       "      <td>Amazon</td>\n",
       "      <td>Food</td>\n",
       "      <td>23</td>\n",
       "      <td>Scheduled</td>\n",
       "      <td>GBP</td>\n",
       "      <td>123456789015</td>\n",
       "      <td>987654321015</td>\n",
       "    </tr>\n",
       "    <tr>\n",
       "      <th>3</th>\n",
       "      <td>TXN00004</td>\n",
       "      <td>2024-05-05</td>\n",
       "      <td>612.89</td>\n",
       "      <td>SBI Bank</td>\n",
       "      <td>ICICI Bank</td>\n",
       "      <td>2327.84</td>\n",
       "      <td>Mumbai</td>\n",
       "      <td>Female</td>\n",
       "      <td>Payment</td>\n",
       "      <td>Success</td>\n",
       "      <td>06:27:36</td>\n",
       "      <td>Tablet</td>\n",
       "      <td>Phone Number</td>\n",
       "      <td>Amazon</td>\n",
       "      <td>Food</td>\n",
       "      <td>24</td>\n",
       "      <td>Instant</td>\n",
       "      <td>INR</td>\n",
       "      <td>123456789016</td>\n",
       "      <td>987654321016</td>\n",
       "    </tr>\n",
       "    <tr>\n",
       "      <th>4</th>\n",
       "      <td>TXN00005</td>\n",
       "      <td>2024-06-06</td>\n",
       "      <td>743.32</td>\n",
       "      <td>SBI Bank</td>\n",
       "      <td>HDFC Bank</td>\n",
       "      <td>1136.84</td>\n",
       "      <td>Mumbai</td>\n",
       "      <td>Female</td>\n",
       "      <td>Payment</td>\n",
       "      <td>Failed</td>\n",
       "      <td>02:06:22</td>\n",
       "      <td>Laptop</td>\n",
       "      <td>QR Code</td>\n",
       "      <td>Amazon</td>\n",
       "      <td>Food</td>\n",
       "      <td>25</td>\n",
       "      <td>Scheduled</td>\n",
       "      <td>USD</td>\n",
       "      <td>123456789017</td>\n",
       "      <td>987654321017</td>\n",
       "    </tr>\n",
       "    <tr>\n",
       "      <th>...</th>\n",
       "      <td>...</td>\n",
       "      <td>...</td>\n",
       "      <td>...</td>\n",
       "      <td>...</td>\n",
       "      <td>...</td>\n",
       "      <td>...</td>\n",
       "      <td>...</td>\n",
       "      <td>...</td>\n",
       "      <td>...</td>\n",
       "      <td>...</td>\n",
       "      <td>...</td>\n",
       "      <td>...</td>\n",
       "      <td>...</td>\n",
       "      <td>...</td>\n",
       "      <td>...</td>\n",
       "      <td>...</td>\n",
       "      <td>...</td>\n",
       "      <td>...</td>\n",
       "      <td>...</td>\n",
       "      <td>...</td>\n",
       "    </tr>\n",
       "    <tr>\n",
       "      <th>19995</th>\n",
       "      <td>TXN00619</td>\n",
       "      <td>2024-08-20</td>\n",
       "      <td>1557.63</td>\n",
       "      <td>Axis Bank</td>\n",
       "      <td>Axis Bank</td>\n",
       "      <td>5379.78</td>\n",
       "      <td>Hyderabad</td>\n",
       "      <td>Female</td>\n",
       "      <td>Transfer</td>\n",
       "      <td>Success</td>\n",
       "      <td>18:27:06</td>\n",
       "      <td>Tablet</td>\n",
       "      <td>Phone Number</td>\n",
       "      <td>IRCTC</td>\n",
       "      <td>Others</td>\n",
       "      <td>39</td>\n",
       "      <td>Scheduled</td>\n",
       "      <td>GBP</td>\n",
       "      <td>123456789631</td>\n",
       "      <td>987654321631</td>\n",
       "    </tr>\n",
       "    <tr>\n",
       "      <th>19996</th>\n",
       "      <td>TXN00620</td>\n",
       "      <td>2024-09-21</td>\n",
       "      <td>1151.00</td>\n",
       "      <td>HDFC Bank</td>\n",
       "      <td>ICICI Bank</td>\n",
       "      <td>8024.64</td>\n",
       "      <td>Mumbai</td>\n",
       "      <td>Male</td>\n",
       "      <td>Payment</td>\n",
       "      <td>Failed</td>\n",
       "      <td>22:04:29</td>\n",
       "      <td>Laptop</td>\n",
       "      <td>QR Code</td>\n",
       "      <td>Flipkart</td>\n",
       "      <td>Shopping</td>\n",
       "      <td>40</td>\n",
       "      <td>Instant</td>\n",
       "      <td>INR</td>\n",
       "      <td>123456789632</td>\n",
       "      <td>987654321632</td>\n",
       "    </tr>\n",
       "    <tr>\n",
       "      <th>19997</th>\n",
       "      <td>TXN00621</td>\n",
       "      <td>2024-10-22</td>\n",
       "      <td>1928.98</td>\n",
       "      <td>SBI Bank</td>\n",
       "      <td>HDFC Bank</td>\n",
       "      <td>9428.43</td>\n",
       "      <td>Delhi</td>\n",
       "      <td>Female</td>\n",
       "      <td>Transfer</td>\n",
       "      <td>Success</td>\n",
       "      <td>05:19:18</td>\n",
       "      <td>Mobile</td>\n",
       "      <td>UPI ID</td>\n",
       "      <td>Amazon</td>\n",
       "      <td>Food</td>\n",
       "      <td>41</td>\n",
       "      <td>Scheduled</td>\n",
       "      <td>USD</td>\n",
       "      <td>123456789633</td>\n",
       "      <td>987654321633</td>\n",
       "    </tr>\n",
       "    <tr>\n",
       "      <th>19998</th>\n",
       "      <td>TXN00622</td>\n",
       "      <td>2024-11-23</td>\n",
       "      <td>929.87</td>\n",
       "      <td>ICICI Bank</td>\n",
       "      <td>SBI Bank</td>\n",
       "      <td>2858.71</td>\n",
       "      <td>Bangalore</td>\n",
       "      <td>Male</td>\n",
       "      <td>Payment</td>\n",
       "      <td>Success</td>\n",
       "      <td>19:43:50</td>\n",
       "      <td>Tablet</td>\n",
       "      <td>Phone Number</td>\n",
       "      <td>Zomato</td>\n",
       "      <td>Travel</td>\n",
       "      <td>42</td>\n",
       "      <td>Instant</td>\n",
       "      <td>EUR</td>\n",
       "      <td>123456789634</td>\n",
       "      <td>987654321634</td>\n",
       "    </tr>\n",
       "    <tr>\n",
       "      <th>19999</th>\n",
       "      <td>TXN00623</td>\n",
       "      <td>2024-12-24</td>\n",
       "      <td>702.63</td>\n",
       "      <td>Axis Bank</td>\n",
       "      <td>Axis Bank</td>\n",
       "      <td>8392.23</td>\n",
       "      <td>Hyderabad</td>\n",
       "      <td>Female</td>\n",
       "      <td>Transfer</td>\n",
       "      <td>Success</td>\n",
       "      <td>00:30:33</td>\n",
       "      <td>Laptop</td>\n",
       "      <td>QR Code</td>\n",
       "      <td>Swiggy</td>\n",
       "      <td>Bill Payment</td>\n",
       "      <td>43</td>\n",
       "      <td>Scheduled</td>\n",
       "      <td>GBP</td>\n",
       "      <td>123456789635</td>\n",
       "      <td>987654321635</td>\n",
       "    </tr>\n",
       "  </tbody>\n",
       "</table>\n",
       "<p>20000 rows × 20 columns</p>\n",
       "</div>"
      ],
      "text/plain": [
       "      TransactionID TransactionDate   Amount BankNameSent BankNameReceived  \\\n",
       "0          TXN00001      2024-02-02  1271.64     SBI Bank        HDFC Bank   \n",
       "1          TXN00002      2024-03-03  1064.63     SBI Bank         SBI Bank   \n",
       "2          TXN00003      2024-04-04  1114.51     SBI Bank        Axis Bank   \n",
       "3          TXN00004      2024-05-05   612.89     SBI Bank       ICICI Bank   \n",
       "4          TXN00005      2024-06-06   743.32     SBI Bank        HDFC Bank   \n",
       "...             ...             ...      ...          ...              ...   \n",
       "19995      TXN00619      2024-08-20  1557.63    Axis Bank        Axis Bank   \n",
       "19996      TXN00620      2024-09-21  1151.00    HDFC Bank       ICICI Bank   \n",
       "19997      TXN00621      2024-10-22  1928.98     SBI Bank        HDFC Bank   \n",
       "19998      TXN00622      2024-11-23   929.87   ICICI Bank         SBI Bank   \n",
       "19999      TXN00623      2024-12-24   702.63    Axis Bank        Axis Bank   \n",
       "\n",
       "       RemainingBalance       City  Gender TransactionType   Status  \\\n",
       "0               5557.02     Mumbai  Female         Payment  Success   \n",
       "1               9753.32     Mumbai  Female         Payment  Success   \n",
       "2               7597.35     Mumbai  Female         Payment  Success   \n",
       "3               2327.84     Mumbai  Female         Payment  Success   \n",
       "4               1136.84     Mumbai  Female         Payment   Failed   \n",
       "...                 ...        ...     ...             ...      ...   \n",
       "19995           5379.78  Hyderabad  Female        Transfer  Success   \n",
       "19996           8024.64     Mumbai    Male         Payment   Failed   \n",
       "19997           9428.43      Delhi  Female        Transfer  Success   \n",
       "19998           2858.71  Bangalore    Male         Payment  Success   \n",
       "19999           8392.23  Hyderabad  Female        Transfer  Success   \n",
       "\n",
       "      TransactionTime DeviceType PaymentMethod MerchantName       Purpose  \\\n",
       "0            17:12:14     Tablet  Phone Number       Amazon          Food   \n",
       "1            11:15:02     Laptop       QR Code       Amazon          Food   \n",
       "2            21:29:39     Mobile        UPI ID       Amazon          Food   \n",
       "3            06:27:36     Tablet  Phone Number       Amazon          Food   \n",
       "4            02:06:22     Laptop       QR Code       Amazon          Food   \n",
       "...               ...        ...           ...          ...           ...   \n",
       "19995        18:27:06     Tablet  Phone Number        IRCTC        Others   \n",
       "19996        22:04:29     Laptop       QR Code     Flipkart      Shopping   \n",
       "19997        05:19:18     Mobile        UPI ID       Amazon          Food   \n",
       "19998        19:43:50     Tablet  Phone Number       Zomato        Travel   \n",
       "19999        00:30:33     Laptop       QR Code       Swiggy  Bill Payment   \n",
       "\n",
       "       CustomerAge PaymentMode Currency  CustomerAccountNumber  \\\n",
       "0               21   Scheduled      USD           123456789013   \n",
       "1               22     Instant      EUR           123456789014   \n",
       "2               23   Scheduled      GBP           123456789015   \n",
       "3               24     Instant      INR           123456789016   \n",
       "4               25   Scheduled      USD           123456789017   \n",
       "...            ...         ...      ...                    ...   \n",
       "19995           39   Scheduled      GBP           123456789631   \n",
       "19996           40     Instant      INR           123456789632   \n",
       "19997           41   Scheduled      USD           123456789633   \n",
       "19998           42     Instant      EUR           123456789634   \n",
       "19999           43   Scheduled      GBP           123456789635   \n",
       "\n",
       "       MerchantAccountNumber  \n",
       "0               987654321013  \n",
       "1               987654321014  \n",
       "2               987654321015  \n",
       "3               987654321016  \n",
       "4               987654321017  \n",
       "...                      ...  \n",
       "19995           987654321631  \n",
       "19996           987654321632  \n",
       "19997           987654321633  \n",
       "19998           987654321634  \n",
       "19999           987654321635  \n",
       "\n",
       "[20000 rows x 20 columns]"
      ]
     },
     "execution_count": 3,
     "metadata": {},
     "output_type": "execute_result"
    }
   ],
   "source": [
    "df"
   ]
  },
  {
   "cell_type": "markdown",
   "id": "cb7aadba",
   "metadata": {},
   "source": [
    "1.Total Number of UPI Transactions"
   ]
  },
  {
   "cell_type": "code",
   "execution_count": 20,
   "id": "171fc0f2",
   "metadata": {},
   "outputs": [
    {
     "name": "stdout",
     "output_type": "stream",
     "text": [
      "Total Transactions: 20000\n"
     ]
    }
   ],
   "source": [
    "total_transactions=df['TransactionID'].count()\n",
    "print(\"Total Transactions:\",total_transactions)"
   ]
  },
  {
   "cell_type": "markdown",
   "id": "d4453dca",
   "metadata": {},
   "source": [
    "2.Total Transactions Amount"
   ]
  },
  {
   "cell_type": "code",
   "execution_count": 6,
   "id": "fc273fb5",
   "metadata": {},
   "outputs": [
    {
     "name": "stdout",
     "output_type": "stream",
     "text": [
      "Total Amount: 19872274.03\n"
     ]
    }
   ],
   "source": [
    "total_amount=df['Amount'].sum()\n",
    "print(\"Total Amount:\",total_amount)"
   ]
  },
  {
   "cell_type": "markdown",
   "id": "4d3cb87d",
   "metadata": {},
   "source": [
    "3.City Wise Transaction Count"
   ]
  },
  {
   "cell_type": "code",
   "execution_count": 67,
   "id": "3a39e7ab",
   "metadata": {},
   "outputs": [
    {
     "name": "stdout",
     "output_type": "stream",
     "text": [
      "City\n",
      "Mumbai       5009\n",
      "Delhi        5008\n",
      "Bangalore    4992\n",
      "Hyderabad    4991\n",
      "Name: count, dtype: int64\n"
     ]
    }
   ],
   "source": [
    "city_counts=df['City'].value_counts()\n",
    "print(city_counts)"
   ]
  },
  {
   "cell_type": "markdown",
   "id": "939e00a6",
   "metadata": {},
   "source": [
    "4.Age Group with Highest Transactions Amount"
   ]
  },
  {
   "cell_type": "code",
   "execution_count": 7,
   "id": "22ace981",
   "metadata": {},
   "outputs": [
    {
     "data": {
      "application/vnd.plotly.v1+json": {
       "config": {
        "plotlyServerURL": "https://plot.ly"
       },
       "data": [
        {
         "hovertemplate": "Age=%{x}<br>Total Amount=%{y}<extra></extra>",
         "legendgroup": "",
         "marker": {
          "color": "#636efa",
          "pattern": {
           "shape": ""
          }
         },
         "name": "",
         "orientation": "v",
         "showlegend": false,
         "textposition": "auto",
         "type": "bar",
         "x": {
          "bdata": "OCApMRwZKCEdKi00OTMbJyMUGCIwMh4rJDUsLyYlHxU7NhYuOjcXGg==",
          "dtype": "i1"
         },
         "xaxis": "x",
         "y": {
          "bdata": "KVyPQkUGIEEK16NwdV4fQT0K16NAVB9BFK5H4QZGH0FxPQrX5zsfQXE9CtcjNh9BmpmZmWMsH0GkcD0KjysfQYXrUbi6HR9BuB6F60z7HkEpXI/CwuUeQWZmZmYN1B5BhetRuGfKHkG4HoXrFbUeQdejcD2ysh5BUrgehe6WHkHsUbgeVZIeQRSuR+E5jR5BpHA9CoCCHkHsUbgezXQeQSlcj8Jcbx5BhetRuGptHkGPwvUou1MeQZqZmZnESB5BUrgehSYrHkGuR+F6KSkeQUjhehReIB5BMzMzMxARHkFSuB6F1f4dQXE9Cten1x1BH4XrURm2HUG4HoXr+a8dQfYoXI/3pB1BSOF6FDiXHUFI4XoUjnMdQQrXo3B+RR1B7FG4HvYiHUHXo3A9zcgcQWZmZmYzihxBKVyPwtDtG0E=",
          "dtype": "f8"
         },
         "yaxis": "y"
        }
       ],
       "layout": {
        "barmode": "relative",
        "height": 500,
        "legend": {
         "tracegroupgap": 0
        },
        "template": {
         "data": {
          "bar": [
           {
            "error_x": {
             "color": "#2a3f5f"
            },
            "error_y": {
             "color": "#2a3f5f"
            },
            "marker": {
             "line": {
              "color": "#E5ECF6",
              "width": 0.5
             },
             "pattern": {
              "fillmode": "overlay",
              "size": 10,
              "solidity": 0.2
             }
            },
            "type": "bar"
           }
          ],
          "barpolar": [
           {
            "marker": {
             "line": {
              "color": "#E5ECF6",
              "width": 0.5
             },
             "pattern": {
              "fillmode": "overlay",
              "size": 10,
              "solidity": 0.2
             }
            },
            "type": "barpolar"
           }
          ],
          "carpet": [
           {
            "aaxis": {
             "endlinecolor": "#2a3f5f",
             "gridcolor": "white",
             "linecolor": "white",
             "minorgridcolor": "white",
             "startlinecolor": "#2a3f5f"
            },
            "baxis": {
             "endlinecolor": "#2a3f5f",
             "gridcolor": "white",
             "linecolor": "white",
             "minorgridcolor": "white",
             "startlinecolor": "#2a3f5f"
            },
            "type": "carpet"
           }
          ],
          "choropleth": [
           {
            "colorbar": {
             "outlinewidth": 0,
             "ticks": ""
            },
            "type": "choropleth"
           }
          ],
          "contour": [
           {
            "colorbar": {
             "outlinewidth": 0,
             "ticks": ""
            },
            "colorscale": [
             [
              0,
              "#0d0887"
             ],
             [
              0.1111111111111111,
              "#46039f"
             ],
             [
              0.2222222222222222,
              "#7201a8"
             ],
             [
              0.3333333333333333,
              "#9c179e"
             ],
             [
              0.4444444444444444,
              "#bd3786"
             ],
             [
              0.5555555555555556,
              "#d8576b"
             ],
             [
              0.6666666666666666,
              "#ed7953"
             ],
             [
              0.7777777777777778,
              "#fb9f3a"
             ],
             [
              0.8888888888888888,
              "#fdca26"
             ],
             [
              1,
              "#f0f921"
             ]
            ],
            "type": "contour"
           }
          ],
          "contourcarpet": [
           {
            "colorbar": {
             "outlinewidth": 0,
             "ticks": ""
            },
            "type": "contourcarpet"
           }
          ],
          "heatmap": [
           {
            "colorbar": {
             "outlinewidth": 0,
             "ticks": ""
            },
            "colorscale": [
             [
              0,
              "#0d0887"
             ],
             [
              0.1111111111111111,
              "#46039f"
             ],
             [
              0.2222222222222222,
              "#7201a8"
             ],
             [
              0.3333333333333333,
              "#9c179e"
             ],
             [
              0.4444444444444444,
              "#bd3786"
             ],
             [
              0.5555555555555556,
              "#d8576b"
             ],
             [
              0.6666666666666666,
              "#ed7953"
             ],
             [
              0.7777777777777778,
              "#fb9f3a"
             ],
             [
              0.8888888888888888,
              "#fdca26"
             ],
             [
              1,
              "#f0f921"
             ]
            ],
            "type": "heatmap"
           }
          ],
          "histogram": [
           {
            "marker": {
             "pattern": {
              "fillmode": "overlay",
              "size": 10,
              "solidity": 0.2
             }
            },
            "type": "histogram"
           }
          ],
          "histogram2d": [
           {
            "colorbar": {
             "outlinewidth": 0,
             "ticks": ""
            },
            "colorscale": [
             [
              0,
              "#0d0887"
             ],
             [
              0.1111111111111111,
              "#46039f"
             ],
             [
              0.2222222222222222,
              "#7201a8"
             ],
             [
              0.3333333333333333,
              "#9c179e"
             ],
             [
              0.4444444444444444,
              "#bd3786"
             ],
             [
              0.5555555555555556,
              "#d8576b"
             ],
             [
              0.6666666666666666,
              "#ed7953"
             ],
             [
              0.7777777777777778,
              "#fb9f3a"
             ],
             [
              0.8888888888888888,
              "#fdca26"
             ],
             [
              1,
              "#f0f921"
             ]
            ],
            "type": "histogram2d"
           }
          ],
          "histogram2dcontour": [
           {
            "colorbar": {
             "outlinewidth": 0,
             "ticks": ""
            },
            "colorscale": [
             [
              0,
              "#0d0887"
             ],
             [
              0.1111111111111111,
              "#46039f"
             ],
             [
              0.2222222222222222,
              "#7201a8"
             ],
             [
              0.3333333333333333,
              "#9c179e"
             ],
             [
              0.4444444444444444,
              "#bd3786"
             ],
             [
              0.5555555555555556,
              "#d8576b"
             ],
             [
              0.6666666666666666,
              "#ed7953"
             ],
             [
              0.7777777777777778,
              "#fb9f3a"
             ],
             [
              0.8888888888888888,
              "#fdca26"
             ],
             [
              1,
              "#f0f921"
             ]
            ],
            "type": "histogram2dcontour"
           }
          ],
          "mesh3d": [
           {
            "colorbar": {
             "outlinewidth": 0,
             "ticks": ""
            },
            "type": "mesh3d"
           }
          ],
          "parcoords": [
           {
            "line": {
             "colorbar": {
              "outlinewidth": 0,
              "ticks": ""
             }
            },
            "type": "parcoords"
           }
          ],
          "pie": [
           {
            "automargin": true,
            "type": "pie"
           }
          ],
          "scatter": [
           {
            "fillpattern": {
             "fillmode": "overlay",
             "size": 10,
             "solidity": 0.2
            },
            "type": "scatter"
           }
          ],
          "scatter3d": [
           {
            "line": {
             "colorbar": {
              "outlinewidth": 0,
              "ticks": ""
             }
            },
            "marker": {
             "colorbar": {
              "outlinewidth": 0,
              "ticks": ""
             }
            },
            "type": "scatter3d"
           }
          ],
          "scattercarpet": [
           {
            "marker": {
             "colorbar": {
              "outlinewidth": 0,
              "ticks": ""
             }
            },
            "type": "scattercarpet"
           }
          ],
          "scattergeo": [
           {
            "marker": {
             "colorbar": {
              "outlinewidth": 0,
              "ticks": ""
             }
            },
            "type": "scattergeo"
           }
          ],
          "scattergl": [
           {
            "marker": {
             "colorbar": {
              "outlinewidth": 0,
              "ticks": ""
             }
            },
            "type": "scattergl"
           }
          ],
          "scattermap": [
           {
            "marker": {
             "colorbar": {
              "outlinewidth": 0,
              "ticks": ""
             }
            },
            "type": "scattermap"
           }
          ],
          "scattermapbox": [
           {
            "marker": {
             "colorbar": {
              "outlinewidth": 0,
              "ticks": ""
             }
            },
            "type": "scattermapbox"
           }
          ],
          "scatterpolar": [
           {
            "marker": {
             "colorbar": {
              "outlinewidth": 0,
              "ticks": ""
             }
            },
            "type": "scatterpolar"
           }
          ],
          "scatterpolargl": [
           {
            "marker": {
             "colorbar": {
              "outlinewidth": 0,
              "ticks": ""
             }
            },
            "type": "scatterpolargl"
           }
          ],
          "scatterternary": [
           {
            "marker": {
             "colorbar": {
              "outlinewidth": 0,
              "ticks": ""
             }
            },
            "type": "scatterternary"
           }
          ],
          "surface": [
           {
            "colorbar": {
             "outlinewidth": 0,
             "ticks": ""
            },
            "colorscale": [
             [
              0,
              "#0d0887"
             ],
             [
              0.1111111111111111,
              "#46039f"
             ],
             [
              0.2222222222222222,
              "#7201a8"
             ],
             [
              0.3333333333333333,
              "#9c179e"
             ],
             [
              0.4444444444444444,
              "#bd3786"
             ],
             [
              0.5555555555555556,
              "#d8576b"
             ],
             [
              0.6666666666666666,
              "#ed7953"
             ],
             [
              0.7777777777777778,
              "#fb9f3a"
             ],
             [
              0.8888888888888888,
              "#fdca26"
             ],
             [
              1,
              "#f0f921"
             ]
            ],
            "type": "surface"
           }
          ],
          "table": [
           {
            "cells": {
             "fill": {
              "color": "#EBF0F8"
             },
             "line": {
              "color": "white"
             }
            },
            "header": {
             "fill": {
              "color": "#C8D4E3"
             },
             "line": {
              "color": "white"
             }
            },
            "type": "table"
           }
          ]
         },
         "layout": {
          "annotationdefaults": {
           "arrowcolor": "#2a3f5f",
           "arrowhead": 0,
           "arrowwidth": 1
          },
          "autotypenumbers": "strict",
          "coloraxis": {
           "colorbar": {
            "outlinewidth": 0,
            "ticks": ""
           }
          },
          "colorscale": {
           "diverging": [
            [
             0,
             "#8e0152"
            ],
            [
             0.1,
             "#c51b7d"
            ],
            [
             0.2,
             "#de77ae"
            ],
            [
             0.3,
             "#f1b6da"
            ],
            [
             0.4,
             "#fde0ef"
            ],
            [
             0.5,
             "#f7f7f7"
            ],
            [
             0.6,
             "#e6f5d0"
            ],
            [
             0.7,
             "#b8e186"
            ],
            [
             0.8,
             "#7fbc41"
            ],
            [
             0.9,
             "#4d9221"
            ],
            [
             1,
             "#276419"
            ]
           ],
           "sequential": [
            [
             0,
             "#0d0887"
            ],
            [
             0.1111111111111111,
             "#46039f"
            ],
            [
             0.2222222222222222,
             "#7201a8"
            ],
            [
             0.3333333333333333,
             "#9c179e"
            ],
            [
             0.4444444444444444,
             "#bd3786"
            ],
            [
             0.5555555555555556,
             "#d8576b"
            ],
            [
             0.6666666666666666,
             "#ed7953"
            ],
            [
             0.7777777777777778,
             "#fb9f3a"
            ],
            [
             0.8888888888888888,
             "#fdca26"
            ],
            [
             1,
             "#f0f921"
            ]
           ],
           "sequentialminus": [
            [
             0,
             "#0d0887"
            ],
            [
             0.1111111111111111,
             "#46039f"
            ],
            [
             0.2222222222222222,
             "#7201a8"
            ],
            [
             0.3333333333333333,
             "#9c179e"
            ],
            [
             0.4444444444444444,
             "#bd3786"
            ],
            [
             0.5555555555555556,
             "#d8576b"
            ],
            [
             0.6666666666666666,
             "#ed7953"
            ],
            [
             0.7777777777777778,
             "#fb9f3a"
            ],
            [
             0.8888888888888888,
             "#fdca26"
            ],
            [
             1,
             "#f0f921"
            ]
           ]
          },
          "colorway": [
           "#636efa",
           "#EF553B",
           "#00cc96",
           "#ab63fa",
           "#FFA15A",
           "#19d3f3",
           "#FF6692",
           "#B6E880",
           "#FF97FF",
           "#FECB52"
          ],
          "font": {
           "color": "#2a3f5f"
          },
          "geo": {
           "bgcolor": "white",
           "lakecolor": "white",
           "landcolor": "#E5ECF6",
           "showlakes": true,
           "showland": true,
           "subunitcolor": "white"
          },
          "hoverlabel": {
           "align": "left"
          },
          "hovermode": "closest",
          "mapbox": {
           "style": "light"
          },
          "paper_bgcolor": "white",
          "plot_bgcolor": "#E5ECF6",
          "polar": {
           "angularaxis": {
            "gridcolor": "white",
            "linecolor": "white",
            "ticks": ""
           },
           "bgcolor": "#E5ECF6",
           "radialaxis": {
            "gridcolor": "white",
            "linecolor": "white",
            "ticks": ""
           }
          },
          "scene": {
           "xaxis": {
            "backgroundcolor": "#E5ECF6",
            "gridcolor": "white",
            "gridwidth": 2,
            "linecolor": "white",
            "showbackground": true,
            "ticks": "",
            "zerolinecolor": "white"
           },
           "yaxis": {
            "backgroundcolor": "#E5ECF6",
            "gridcolor": "white",
            "gridwidth": 2,
            "linecolor": "white",
            "showbackground": true,
            "ticks": "",
            "zerolinecolor": "white"
           },
           "zaxis": {
            "backgroundcolor": "#E5ECF6",
            "gridcolor": "white",
            "gridwidth": 2,
            "linecolor": "white",
            "showbackground": true,
            "ticks": "",
            "zerolinecolor": "white"
           }
          },
          "shapedefaults": {
           "line": {
            "color": "#2a3f5f"
           }
          },
          "ternary": {
           "aaxis": {
            "gridcolor": "white",
            "linecolor": "white",
            "ticks": ""
           },
           "baxis": {
            "gridcolor": "white",
            "linecolor": "white",
            "ticks": ""
           },
           "bgcolor": "#E5ECF6",
           "caxis": {
            "gridcolor": "white",
            "linecolor": "white",
            "ticks": ""
           }
          },
          "title": {
           "x": 0.05
          },
          "xaxis": {
           "automargin": true,
           "gridcolor": "white",
           "linecolor": "white",
           "ticks": "",
           "title": {
            "standoff": 15
           },
           "zerolinecolor": "white",
           "zerolinewidth": 2
          },
          "yaxis": {
           "automargin": true,
           "gridcolor": "white",
           "linecolor": "white",
           "ticks": "",
           "title": {
            "standoff": 15
           },
           "zerolinecolor": "white",
           "zerolinewidth": 2
          }
         }
        },
        "title": {
         "text": "Total Transaction Amount by Customer Age"
        },
        "xaxis": {
         "anchor": "y",
         "domain": [
          0,
          1
         ],
         "title": {
          "text": "Age"
         }
        },
        "yaxis": {
         "anchor": "x",
         "domain": [
          0,
          1
         ],
         "title": {
          "text": "Total Amount"
         }
        }
       }
      }
     },
     "metadata": {},
     "output_type": "display_data"
    }
   ],
   "source": [
    "import plotly.express as px\n",
    "age_group = df.groupby('CustomerAge')['Amount'].sum().sort_values(ascending=False).reset_index()\n",
    "age_group.columns = ['CustomerAge', 'TotalAmount']\n",
    "fig = px.bar(age_group, x='CustomerAge', y='TotalAmount',\n",
    "             title='Total Transaction Amount by Customer Age',\n",
    "             labels={'CustomerAge': 'Age', 'TotalAmount': 'Total Amount'},\n",
    "             height=500)\n",
    "fig.show()"
   ]
  },
  {
   "cell_type": "markdown",
   "id": "78e5486c",
   "metadata": {},
   "source": [
    "5.Most used device type"
   ]
  },
  {
   "cell_type": "code",
   "execution_count": 79,
   "id": "822c7144",
   "metadata": {},
   "outputs": [
    {
     "name": "stdout",
     "output_type": "stream",
     "text": [
      "DeviceType\n",
      "Mobile    6728\n",
      "Tablet    6648\n",
      "Laptop    6624\n",
      "Name: count, dtype: int64\n"
     ]
    }
   ],
   "source": [
    "device_type=df['DeviceType'].value_counts()\n",
    "print(device_type)"
   ]
  },
  {
   "cell_type": "markdown",
   "id": "055c71ab",
   "metadata": {},
   "source": [
    "6.Most Used Payment Method"
   ]
  },
  {
   "cell_type": "code",
   "execution_count": 89,
   "id": "8de65e3f",
   "metadata": {},
   "outputs": [
    {
     "name": "stdout",
     "output_type": "stream",
     "text": [
      "PaymentMethod\n",
      "QR Code         6721\n",
      "Phone Number    6663\n",
      "UPI ID          6616\n",
      "Name: count, dtype: int64\n"
     ]
    }
   ],
   "source": [
    "payment_method=df['PaymentMethod'].value_counts()\n",
    "print(payment_method)"
   ]
  },
  {
   "cell_type": "markdown",
   "id": "a1315e28",
   "metadata": {},
   "source": [
    "7.Top 5 merchant by amount"
   ]
  },
  {
   "cell_type": "code",
   "execution_count": 63,
   "id": "e52353fe",
   "metadata": {},
   "outputs": [
    {
     "name": "stdout",
     "output_type": "stream",
     "text": [
      "MerchantName\n",
      "Zomato      3986852.57\n",
      "Flipkart    3986041.94\n",
      "Amazon      3979705.64\n",
      "IRCTC       3975081.86\n",
      "Swiggy      3944592.02\n",
      "Name: Amount, dtype: float64\n"
     ]
    }
   ],
   "source": [
    "top_merchant=df.groupby('MerchantName')['Amount'].sum().nlargest(5)\n",
    "print(top_merchant)"
   ]
  },
  {
   "cell_type": "markdown",
   "id": "280d2803",
   "metadata": {},
   "source": [
    "8.Transaction success vs failure"
   ]
  },
  {
   "cell_type": "code",
   "execution_count": 64,
   "id": "0f26eef8",
   "metadata": {},
   "outputs": [
    {
     "name": "stdout",
     "output_type": "stream",
     "text": [
      "Status\n",
      "Success    16000\n",
      "Failed      4000\n",
      "Name: count, dtype: int64\n"
     ]
    }
   ],
   "source": [
    "status_count=df['Status'].value_counts()\n",
    "print(status_count)"
   ]
  },
  {
   "cell_type": "markdown",
   "id": "86b6bf5f",
   "metadata": {},
   "source": [
    "9.Bank with highest number of failed transactions"
   ]
  },
  {
   "cell_type": "code",
   "execution_count": 9,
   "id": "63fd85aa",
   "metadata": {},
   "outputs": [
    {
     "name": "stdout",
     "output_type": "stream",
     "text": [
      "BankNameSent\n",
      "SBI Bank      1007\n",
      "Axis Bank     1000\n",
      "HDFC Bank      999\n",
      "ICICI Bank     994\n",
      "Name: count, dtype: int64\n"
     ]
    }
   ],
   "source": [
    "failed_banks=df[df['Status']=='Failed']['BankNameSent'].value_counts()\n",
    "print(failed_banks)"
   ]
  },
  {
   "cell_type": "markdown",
   "id": "03097bf9",
   "metadata": {},
   "source": [
    "10.Average Transaction Value"
   ]
  },
  {
   "cell_type": "code",
   "execution_count": 10,
   "id": "64964b9c",
   "metadata": {},
   "outputs": [
    {
     "data": {
      "application/vnd.plotly.v1+json": {
       "config": {
        "plotlyServerURL": "https://plot.ly"
       },
       "data": [
        {
         "bingroup": "x",
         "hovertemplate": "Transaction Amount=%{x}<br>count=%{y}<extra></extra>",
         "legendgroup": "",
         "marker": {
          "color": "#636efa",
          "pattern": {
           "shape": ""
          }
         },
         "name": "",
         "nbinsx": 50,
         "orientation": "v",
         "showlegend": false,
         "type": "histogram",
         "x": {
          "bdata": "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",
          "dtype": "f8"
         },
         "xaxis": "x",
         "yaxis": "y"
        }
       ],
       "layout": {
        "annotations": [
         {
          "showarrow": false,
          "text": "Avg: 993.76",
          "x": 993.7622245000001,
          "xanchor": "left",
          "xref": "x",
          "y": 1,
          "yanchor": "top",
          "yref": "y domain"
         }
        ],
        "barmode": "relative",
        "legend": {
         "tracegroupgap": 0
        },
        "shapes": [
         {
          "line": {
           "color": "red",
           "dash": "dash"
          },
          "type": "line",
          "x0": 993.7622245000001,
          "x1": 993.7622245000001,
          "xref": "x",
          "y0": 0,
          "y1": 1,
          "yref": "y domain"
         }
        ],
        "template": {
         "data": {
          "bar": [
           {
            "error_x": {
             "color": "#2a3f5f"
            },
            "error_y": {
             "color": "#2a3f5f"
            },
            "marker": {
             "line": {
              "color": "#E5ECF6",
              "width": 0.5
             },
             "pattern": {
              "fillmode": "overlay",
              "size": 10,
              "solidity": 0.2
             }
            },
            "type": "bar"
           }
          ],
          "barpolar": [
           {
            "marker": {
             "line": {
              "color": "#E5ECF6",
              "width": 0.5
             },
             "pattern": {
              "fillmode": "overlay",
              "size": 10,
              "solidity": 0.2
             }
            },
            "type": "barpolar"
           }
          ],
          "carpet": [
           {
            "aaxis": {
             "endlinecolor": "#2a3f5f",
             "gridcolor": "white",
             "linecolor": "white",
             "minorgridcolor": "white",
             "startlinecolor": "#2a3f5f"
            },
            "baxis": {
             "endlinecolor": "#2a3f5f",
             "gridcolor": "white",
             "linecolor": "white",
             "minorgridcolor": "white",
             "startlinecolor": "#2a3f5f"
            },
            "type": "carpet"
           }
          ],
          "choropleth": [
           {
            "colorbar": {
             "outlinewidth": 0,
             "ticks": ""
            },
            "type": "choropleth"
           }
          ],
          "contour": [
           {
            "colorbar": {
             "outlinewidth": 0,
             "ticks": ""
            },
            "colorscale": [
             [
              0,
              "#0d0887"
             ],
             [
              0.1111111111111111,
              "#46039f"
             ],
             [
              0.2222222222222222,
              "#7201a8"
             ],
             [
              0.3333333333333333,
              "#9c179e"
             ],
             [
              0.4444444444444444,
              "#bd3786"
             ],
             [
              0.5555555555555556,
              "#d8576b"
             ],
             [
              0.6666666666666666,
              "#ed7953"
             ],
             [
              0.7777777777777778,
              "#fb9f3a"
             ],
             [
              0.8888888888888888,
              "#fdca26"
             ],
             [
              1,
              "#f0f921"
             ]
            ],
            "type": "contour"
           }
          ],
          "contourcarpet": [
           {
            "colorbar": {
             "outlinewidth": 0,
             "ticks": ""
            },
            "type": "contourcarpet"
           }
          ],
          "heatmap": [
           {
            "colorbar": {
             "outlinewidth": 0,
             "ticks": ""
            },
            "colorscale": [
             [
              0,
              "#0d0887"
             ],
             [
              0.1111111111111111,
              "#46039f"
             ],
             [
              0.2222222222222222,
              "#7201a8"
             ],
             [
              0.3333333333333333,
              "#9c179e"
             ],
             [
              0.4444444444444444,
              "#bd3786"
             ],
             [
              0.5555555555555556,
              "#d8576b"
             ],
             [
              0.6666666666666666,
              "#ed7953"
             ],
             [
              0.7777777777777778,
              "#fb9f3a"
             ],
             [
              0.8888888888888888,
              "#fdca26"
             ],
             [
              1,
              "#f0f921"
             ]
            ],
            "type": "heatmap"
           }
          ],
          "histogram": [
           {
            "marker": {
             "pattern": {
              "fillmode": "overlay",
              "size": 10,
              "solidity": 0.2
             }
            },
            "type": "histogram"
           }
          ],
          "histogram2d": [
           {
            "colorbar": {
             "outlinewidth": 0,
             "ticks": ""
            },
            "colorscale": [
             [
              0,
              "#0d0887"
             ],
             [
              0.1111111111111111,
              "#46039f"
             ],
             [
              0.2222222222222222,
              "#7201a8"
             ],
             [
              0.3333333333333333,
              "#9c179e"
             ],
             [
              0.4444444444444444,
              "#bd3786"
             ],
             [
              0.5555555555555556,
              "#d8576b"
             ],
             [
              0.6666666666666666,
              "#ed7953"
             ],
             [
              0.7777777777777778,
              "#fb9f3a"
             ],
             [
              0.8888888888888888,
              "#fdca26"
             ],
             [
              1,
              "#f0f921"
             ]
            ],
            "type": "histogram2d"
           }
          ],
          "histogram2dcontour": [
           {
            "colorbar": {
             "outlinewidth": 0,
             "ticks": ""
            },
            "colorscale": [
             [
              0,
              "#0d0887"
             ],
             [
              0.1111111111111111,
              "#46039f"
             ],
             [
              0.2222222222222222,
              "#7201a8"
             ],
             [
              0.3333333333333333,
              "#9c179e"
             ],
             [
              0.4444444444444444,
              "#bd3786"
             ],
             [
              0.5555555555555556,
              "#d8576b"
             ],
             [
              0.6666666666666666,
              "#ed7953"
             ],
             [
              0.7777777777777778,
              "#fb9f3a"
             ],
             [
              0.8888888888888888,
              "#fdca26"
             ],
             [
              1,
              "#f0f921"
             ]
            ],
            "type": "histogram2dcontour"
           }
          ],
          "mesh3d": [
           {
            "colorbar": {
             "outlinewidth": 0,
             "ticks": ""
            },
            "type": "mesh3d"
           }
          ],
          "parcoords": [
           {
            "line": {
             "colorbar": {
              "outlinewidth": 0,
              "ticks": ""
             }
            },
            "type": "parcoords"
           }
          ],
          "pie": [
           {
            "automargin": true,
            "type": "pie"
           }
          ],
          "scatter": [
           {
            "fillpattern": {
             "fillmode": "overlay",
             "size": 10,
             "solidity": 0.2
            },
            "type": "scatter"
           }
          ],
          "scatter3d": [
           {
            "line": {
             "colorbar": {
              "outlinewidth": 0,
              "ticks": ""
             }
            },
            "marker": {
             "colorbar": {
              "outlinewidth": 0,
              "ticks": ""
             }
            },
            "type": "scatter3d"
           }
          ],
          "scattercarpet": [
           {
            "marker": {
             "colorbar": {
              "outlinewidth": 0,
              "ticks": ""
             }
            },
            "type": "scattercarpet"
           }
          ],
          "scattergeo": [
           {
            "marker": {
             "colorbar": {
              "outlinewidth": 0,
              "ticks": ""
             }
            },
            "type": "scattergeo"
           }
          ],
          "scattergl": [
           {
            "marker": {
             "colorbar": {
              "outlinewidth": 0,
              "ticks": ""
             }
            },
            "type": "scattergl"
           }
          ],
          "scattermap": [
           {
            "marker": {
             "colorbar": {
              "outlinewidth": 0,
              "ticks": ""
             }
            },
            "type": "scattermap"
           }
          ],
          "scattermapbox": [
           {
            "marker": {
             "colorbar": {
              "outlinewidth": 0,
              "ticks": ""
             }
            },
            "type": "scattermapbox"
           }
          ],
          "scatterpolar": [
           {
            "marker": {
             "colorbar": {
              "outlinewidth": 0,
              "ticks": ""
             }
            },
            "type": "scatterpolar"
           }
          ],
          "scatterpolargl": [
           {
            "marker": {
             "colorbar": {
              "outlinewidth": 0,
              "ticks": ""
             }
            },
            "type": "scatterpolargl"
           }
          ],
          "scatterternary": [
           {
            "marker": {
             "colorbar": {
              "outlinewidth": 0,
              "ticks": ""
             }
            },
            "type": "scatterternary"
           }
          ],
          "surface": [
           {
            "colorbar": {
             "outlinewidth": 0,
             "ticks": ""
            },
            "colorscale": [
             [
              0,
              "#0d0887"
             ],
             [
              0.1111111111111111,
              "#46039f"
             ],
             [
              0.2222222222222222,
              "#7201a8"
             ],
             [
              0.3333333333333333,
              "#9c179e"
             ],
             [
              0.4444444444444444,
              "#bd3786"
             ],
             [
              0.5555555555555556,
              "#d8576b"
             ],
             [
              0.6666666666666666,
              "#ed7953"
             ],
             [
              0.7777777777777778,
              "#fb9f3a"
             ],
             [
              0.8888888888888888,
              "#fdca26"
             ],
             [
              1,
              "#f0f921"
             ]
            ],
            "type": "surface"
           }
          ],
          "table": [
           {
            "cells": {
             "fill": {
              "color": "#EBF0F8"
             },
             "line": {
              "color": "white"
             }
            },
            "header": {
             "fill": {
              "color": "#C8D4E3"
             },
             "line": {
              "color": "white"
             }
            },
            "type": "table"
           }
          ]
         },
         "layout": {
          "annotationdefaults": {
           "arrowcolor": "#2a3f5f",
           "arrowhead": 0,
           "arrowwidth": 1
          },
          "autotypenumbers": "strict",
          "coloraxis": {
           "colorbar": {
            "outlinewidth": 0,
            "ticks": ""
           }
          },
          "colorscale": {
           "diverging": [
            [
             0,
             "#8e0152"
            ],
            [
             0.1,
             "#c51b7d"
            ],
            [
             0.2,
             "#de77ae"
            ],
            [
             0.3,
             "#f1b6da"
            ],
            [
             0.4,
             "#fde0ef"
            ],
            [
             0.5,
             "#f7f7f7"
            ],
            [
             0.6,
             "#e6f5d0"
            ],
            [
             0.7,
             "#b8e186"
            ],
            [
             0.8,
             "#7fbc41"
            ],
            [
             0.9,
             "#4d9221"
            ],
            [
             1,
             "#276419"
            ]
           ],
           "sequential": [
            [
             0,
             "#0d0887"
            ],
            [
             0.1111111111111111,
             "#46039f"
            ],
            [
             0.2222222222222222,
             "#7201a8"
            ],
            [
             0.3333333333333333,
             "#9c179e"
            ],
            [
             0.4444444444444444,
             "#bd3786"
            ],
            [
             0.5555555555555556,
             "#d8576b"
            ],
            [
             0.6666666666666666,
             "#ed7953"
            ],
            [
             0.7777777777777778,
             "#fb9f3a"
            ],
            [
             0.8888888888888888,
             "#fdca26"
            ],
            [
             1,
             "#f0f921"
            ]
           ],
           "sequentialminus": [
            [
             0,
             "#0d0887"
            ],
            [
             0.1111111111111111,
             "#46039f"
            ],
            [
             0.2222222222222222,
             "#7201a8"
            ],
            [
             0.3333333333333333,
             "#9c179e"
            ],
            [
             0.4444444444444444,
             "#bd3786"
            ],
            [
             0.5555555555555556,
             "#d8576b"
            ],
            [
             0.6666666666666666,
             "#ed7953"
            ],
            [
             0.7777777777777778,
             "#fb9f3a"
            ],
            [
             0.8888888888888888,
             "#fdca26"
            ],
            [
             1,
             "#f0f921"
            ]
           ]
          },
          "colorway": [
           "#636efa",
           "#EF553B",
           "#00cc96",
           "#ab63fa",
           "#FFA15A",
           "#19d3f3",
           "#FF6692",
           "#B6E880",
           "#FF97FF",
           "#FECB52"
          ],
          "font": {
           "color": "#2a3f5f"
          },
          "geo": {
           "bgcolor": "white",
           "lakecolor": "white",
           "landcolor": "#E5ECF6",
           "showlakes": true,
           "showland": true,
           "subunitcolor": "white"
          },
          "hoverlabel": {
           "align": "left"
          },
          "hovermode": "closest",
          "mapbox": {
           "style": "light"
          },
          "paper_bgcolor": "white",
          "plot_bgcolor": "#E5ECF6",
          "polar": {
           "angularaxis": {
            "gridcolor": "white",
            "linecolor": "white",
            "ticks": ""
           },
           "bgcolor": "#E5ECF6",
           "radialaxis": {
            "gridcolor": "white",
            "linecolor": "white",
            "ticks": ""
           }
          },
          "scene": {
           "xaxis": {
            "backgroundcolor": "#E5ECF6",
            "gridcolor": "white",
            "gridwidth": 2,
            "linecolor": "white",
            "showbackground": true,
            "ticks": "",
            "zerolinecolor": "white"
           },
           "yaxis": {
            "backgroundcolor": "#E5ECF6",
            "gridcolor": "white",
            "gridwidth": 2,
            "linecolor": "white",
            "showbackground": true,
            "ticks": "",
            "zerolinecolor": "white"
           },
           "zaxis": {
            "backgroundcolor": "#E5ECF6",
            "gridcolor": "white",
            "gridwidth": 2,
            "linecolor": "white",
            "showbackground": true,
            "ticks": "",
            "zerolinecolor": "white"
           }
          },
          "shapedefaults": {
           "line": {
            "color": "#2a3f5f"
           }
          },
          "ternary": {
           "aaxis": {
            "gridcolor": "white",
            "linecolor": "white",
            "ticks": ""
           },
           "baxis": {
            "gridcolor": "white",
            "linecolor": "white",
            "ticks": ""
           },
           "bgcolor": "#E5ECF6",
           "caxis": {
            "gridcolor": "white",
            "linecolor": "white",
            "ticks": ""
           }
          },
          "title": {
           "x": 0.05
          },
          "xaxis": {
           "automargin": true,
           "gridcolor": "white",
           "linecolor": "white",
           "ticks": "",
           "title": {
            "standoff": 15
           },
           "zerolinecolor": "white",
           "zerolinewidth": 2
          },
          "yaxis": {
           "automargin": true,
           "gridcolor": "white",
           "linecolor": "white",
           "ticks": "",
           "title": {
            "standoff": 15
           },
           "zerolinecolor": "white",
           "zerolinewidth": 2
          }
         }
        },
        "title": {
         "text": "Histogram of Transaction Amounts"
        },
        "xaxis": {
         "anchor": "y",
         "domain": [
          0,
          1
         ],
         "title": {
          "text": "Transaction Amount"
         }
        },
        "yaxis": {
         "anchor": "x",
         "domain": [
          0,
          1
         ],
         "title": {
          "text": "count"
         }
        }
       }
      }
     },
     "metadata": {},
     "output_type": "display_data"
    }
   ],
   "source": [
    "import plotly.express as px\n",
    "\n",
    "fig = px.histogram(df, x='Amount', nbins=50,\n",
    "                   title='Histogram of Transaction Amounts',\n",
    "                   labels={'Amount': 'Transaction Amount'})\n",
    "\n",
    "fig.add_vline(x=df['Amount'].mean(), line_color='red', line_dash='dash',\n",
    "              annotation_text=f\"Avg: {round(df['Amount'].mean(), 2)}\", \n",
    "              annotation_position=\"top right\")\n",
    "\n",
    "fig.show()"
   ]
  },
  {
   "cell_type": "markdown",
   "id": "5434c624",
   "metadata": {},
   "source": [
    "11.Currency-Wise Transaction Summary"
   ]
  },
  {
   "cell_type": "code",
   "execution_count": 90,
   "id": "bcb72523",
   "metadata": {},
   "outputs": [
    {
     "name": "stdout",
     "output_type": "stream",
     "text": [
      "Currency\n",
      "EUR    4870960.99\n",
      "GBP    4903038.77\n",
      "INR    5067207.86\n",
      "USD    5031066.41\n",
      "Name: Amount, dtype: float64\n"
     ]
    }
   ],
   "source": [
    "currency_summary=df.groupby('Currency')['Amount'].sum()\n",
    "print(currency_summary)"
   ]
  },
  {
   "cell_type": "markdown",
   "id": "59f009fa",
   "metadata": {},
   "source": [
    "12.Purpose with Highest Transaction Volume"
   ]
  },
  {
   "cell_type": "code",
   "execution_count": 97,
   "id": "81f3926f",
   "metadata": {},
   "outputs": [
    {
     "name": "stdout",
     "output_type": "stream",
     "text": [
      "Purpose\n",
      "Bill Payment    3943525.79\n",
      "Food            3948581.22\n",
      "Others          3981915.10\n",
      "Shopping        3994698.70\n",
      "Travel          4003553.22\n",
      "Name: Amount, dtype: float64\n"
     ]
    }
   ],
   "source": [
    "top_purpose=df.groupby('Purpose')['Amount'].sum().sort_values(ascending=True)\n",
    "print(top_purpose)"
   ]
  },
  {
   "cell_type": "markdown",
   "id": "fe7e8fa6",
   "metadata": {},
   "source": [
    "13.Gender-Wise Transaction Count"
   ]
  },
  {
   "cell_type": "code",
   "execution_count": 101,
   "id": "2b1eeb3d",
   "metadata": {},
   "outputs": [
    {
     "name": "stdout",
     "output_type": "stream",
     "text": [
      "Gender\n",
      "Female    10021\n",
      "Male       9979\n",
      "Name: count, dtype: int64\n"
     ]
    }
   ],
   "source": [
    "gender=df['Gender'].value_counts()\n",
    "print(gender)"
   ]
  },
  {
   "cell_type": "markdown",
   "id": "2ada54ac",
   "metadata": {},
   "source": [
    "14.Which merchant received highest number of UPI payments"
   ]
  },
  {
   "cell_type": "code",
   "execution_count": 108,
   "id": "28e1513e",
   "metadata": {},
   "outputs": [
    {
     "name": "stdout",
     "output_type": "stream",
     "text": [
      "MerchantName\n",
      "Amazon      4041\n",
      "Swiggy      3997\n",
      "Flipkart    3988\n",
      "Zomato      3987\n",
      "IRCTC       3987\n",
      "Name: count, dtype: int64\n"
     ]
    }
   ],
   "source": [
    "highest_payments=df['MerchantName'].value_counts()\n",
    "print(highest_payments)"
   ]
  },
  {
   "cell_type": "markdown",
   "id": "e3857c33",
   "metadata": {},
   "source": [
    "15.P2P transaction share"
   ]
  },
  {
   "cell_type": "code",
   "execution_count": 109,
   "id": "bb1cd781",
   "metadata": {},
   "outputs": [
    {
     "name": "stdout",
     "output_type": "stream",
     "text": [
      "TransactionType\n",
      "Payment     50.175\n",
      "Transfer    49.825\n",
      "Name: proportion, dtype: float64\n"
     ]
    }
   ],
   "source": [
    "type_share=df['TransactionType'].value_counts(normalize=True)*100\n",
    "print(type_share)"
   ]
  },
  {
   "cell_type": "markdown",
   "id": "ea808bd2",
   "metadata": {},
   "source": [
    "16.Gender-wise Average Transaction Amount"
   ]
  },
  {
   "cell_type": "code",
   "execution_count": null,
   "id": "4e3fc257",
   "metadata": {},
   "outputs": [
    {
     "data": {
      "application/vnd.plotly.v1+json": {
       "config": {
        "plotlyServerURL": "https://plot.ly"
       },
       "data": [
        {
         "textinfo": "value+percent previous",
         "type": "funnel",
         "x": {
          "bdata": "mruMifARj0AJ1hRlPQqPQA==",
          "dtype": "f8"
         },
         "y": [
          "Female",
          "Male"
         ]
        }
       ],
       "layout": {
        "template": {
         "data": {
          "bar": [
           {
            "error_x": {
             "color": "#2a3f5f"
            },
            "error_y": {
             "color": "#2a3f5f"
            },
            "marker": {
             "line": {
              "color": "#E5ECF6",
              "width": 0.5
             },
             "pattern": {
              "fillmode": "overlay",
              "size": 10,
              "solidity": 0.2
             }
            },
            "type": "bar"
           }
          ],
          "barpolar": [
           {
            "marker": {
             "line": {
              "color": "#E5ECF6",
              "width": 0.5
             },
             "pattern": {
              "fillmode": "overlay",
              "size": 10,
              "solidity": 0.2
             }
            },
            "type": "barpolar"
           }
          ],
          "carpet": [
           {
            "aaxis": {
             "endlinecolor": "#2a3f5f",
             "gridcolor": "white",
             "linecolor": "white",
             "minorgridcolor": "white",
             "startlinecolor": "#2a3f5f"
            },
            "baxis": {
             "endlinecolor": "#2a3f5f",
             "gridcolor": "white",
             "linecolor": "white",
             "minorgridcolor": "white",
             "startlinecolor": "#2a3f5f"
            },
            "type": "carpet"
           }
          ],
          "choropleth": [
           {
            "colorbar": {
             "outlinewidth": 0,
             "ticks": ""
            },
            "type": "choropleth"
           }
          ],
          "contour": [
           {
            "colorbar": {
             "outlinewidth": 0,
             "ticks": ""
            },
            "colorscale": [
             [
              0,
              "#0d0887"
             ],
             [
              0.1111111111111111,
              "#46039f"
             ],
             [
              0.2222222222222222,
              "#7201a8"
             ],
             [
              0.3333333333333333,
              "#9c179e"
             ],
             [
              0.4444444444444444,
              "#bd3786"
             ],
             [
              0.5555555555555556,
              "#d8576b"
             ],
             [
              0.6666666666666666,
              "#ed7953"
             ],
             [
              0.7777777777777778,
              "#fb9f3a"
             ],
             [
              0.8888888888888888,
              "#fdca26"
             ],
             [
              1,
              "#f0f921"
             ]
            ],
            "type": "contour"
           }
          ],
          "contourcarpet": [
           {
            "colorbar": {
             "outlinewidth": 0,
             "ticks": ""
            },
            "type": "contourcarpet"
           }
          ],
          "heatmap": [
           {
            "colorbar": {
             "outlinewidth": 0,
             "ticks": ""
            },
            "colorscale": [
             [
              0,
              "#0d0887"
             ],
             [
              0.1111111111111111,
              "#46039f"
             ],
             [
              0.2222222222222222,
              "#7201a8"
             ],
             [
              0.3333333333333333,
              "#9c179e"
             ],
             [
              0.4444444444444444,
              "#bd3786"
             ],
             [
              0.5555555555555556,
              "#d8576b"
             ],
             [
              0.6666666666666666,
              "#ed7953"
             ],
             [
              0.7777777777777778,
              "#fb9f3a"
             ],
             [
              0.8888888888888888,
              "#fdca26"
             ],
             [
              1,
              "#f0f921"
             ]
            ],
            "type": "heatmap"
           }
          ],
          "histogram": [
           {
            "marker": {
             "pattern": {
              "fillmode": "overlay",
              "size": 10,
              "solidity": 0.2
             }
            },
            "type": "histogram"
           }
          ],
          "histogram2d": [
           {
            "colorbar": {
             "outlinewidth": 0,
             "ticks": ""
            },
            "colorscale": [
             [
              0,
              "#0d0887"
             ],
             [
              0.1111111111111111,
              "#46039f"
             ],
             [
              0.2222222222222222,
              "#7201a8"
             ],
             [
              0.3333333333333333,
              "#9c179e"
             ],
             [
              0.4444444444444444,
              "#bd3786"
             ],
             [
              0.5555555555555556,
              "#d8576b"
             ],
             [
              0.6666666666666666,
              "#ed7953"
             ],
             [
              0.7777777777777778,
              "#fb9f3a"
             ],
             [
              0.8888888888888888,
              "#fdca26"
             ],
             [
              1,
              "#f0f921"
             ]
            ],
            "type": "histogram2d"
           }
          ],
          "histogram2dcontour": [
           {
            "colorbar": {
             "outlinewidth": 0,
             "ticks": ""
            },
            "colorscale": [
             [
              0,
              "#0d0887"
             ],
             [
              0.1111111111111111,
              "#46039f"
             ],
             [
              0.2222222222222222,
              "#7201a8"
             ],
             [
              0.3333333333333333,
              "#9c179e"
             ],
             [
              0.4444444444444444,
              "#bd3786"
             ],
             [
              0.5555555555555556,
              "#d8576b"
             ],
             [
              0.6666666666666666,
              "#ed7953"
             ],
             [
              0.7777777777777778,
              "#fb9f3a"
             ],
             [
              0.8888888888888888,
              "#fdca26"
             ],
             [
              1,
              "#f0f921"
             ]
            ],
            "type": "histogram2dcontour"
           }
          ],
          "mesh3d": [
           {
            "colorbar": {
             "outlinewidth": 0,
             "ticks": ""
            },
            "type": "mesh3d"
           }
          ],
          "parcoords": [
           {
            "line": {
             "colorbar": {
              "outlinewidth": 0,
              "ticks": ""
             }
            },
            "type": "parcoords"
           }
          ],
          "pie": [
           {
            "automargin": true,
            "type": "pie"
           }
          ],
          "scatter": [
           {
            "fillpattern": {
             "fillmode": "overlay",
             "size": 10,
             "solidity": 0.2
            },
            "type": "scatter"
           }
          ],
          "scatter3d": [
           {
            "line": {
             "colorbar": {
              "outlinewidth": 0,
              "ticks": ""
             }
            },
            "marker": {
             "colorbar": {
              "outlinewidth": 0,
              "ticks": ""
             }
            },
            "type": "scatter3d"
           }
          ],
          "scattercarpet": [
           {
            "marker": {
             "colorbar": {
              "outlinewidth": 0,
              "ticks": ""
             }
            },
            "type": "scattercarpet"
           }
          ],
          "scattergeo": [
           {
            "marker": {
             "colorbar": {
              "outlinewidth": 0,
              "ticks": ""
             }
            },
            "type": "scattergeo"
           }
          ],
          "scattergl": [
           {
            "marker": {
             "colorbar": {
              "outlinewidth": 0,
              "ticks": ""
             }
            },
            "type": "scattergl"
           }
          ],
          "scattermap": [
           {
            "marker": {
             "colorbar": {
              "outlinewidth": 0,
              "ticks": ""
             }
            },
            "type": "scattermap"
           }
          ],
          "scattermapbox": [
           {
            "marker": {
             "colorbar": {
              "outlinewidth": 0,
              "ticks": ""
             }
            },
            "type": "scattermapbox"
           }
          ],
          "scatterpolar": [
           {
            "marker": {
             "colorbar": {
              "outlinewidth": 0,
              "ticks": ""
             }
            },
            "type": "scatterpolar"
           }
          ],
          "scatterpolargl": [
           {
            "marker": {
             "colorbar": {
              "outlinewidth": 0,
              "ticks": ""
             }
            },
            "type": "scatterpolargl"
           }
          ],
          "scatterternary": [
           {
            "marker": {
             "colorbar": {
              "outlinewidth": 0,
              "ticks": ""
             }
            },
            "type": "scatterternary"
           }
          ],
          "surface": [
           {
            "colorbar": {
             "outlinewidth": 0,
             "ticks": ""
            },
            "colorscale": [
             [
              0,
              "#0d0887"
             ],
             [
              0.1111111111111111,
              "#46039f"
             ],
             [
              0.2222222222222222,
              "#7201a8"
             ],
             [
              0.3333333333333333,
              "#9c179e"
             ],
             [
              0.4444444444444444,
              "#bd3786"
             ],
             [
              0.5555555555555556,
              "#d8576b"
             ],
             [
              0.6666666666666666,
              "#ed7953"
             ],
             [
              0.7777777777777778,
              "#fb9f3a"
             ],
             [
              0.8888888888888888,
              "#fdca26"
             ],
             [
              1,
              "#f0f921"
             ]
            ],
            "type": "surface"
           }
          ],
          "table": [
           {
            "cells": {
             "fill": {
              "color": "#EBF0F8"
             },
             "line": {
              "color": "white"
             }
            },
            "header": {
             "fill": {
              "color": "#C8D4E3"
             },
             "line": {
              "color": "white"
             }
            },
            "type": "table"
           }
          ]
         },
         "layout": {
          "annotationdefaults": {
           "arrowcolor": "#2a3f5f",
           "arrowhead": 0,
           "arrowwidth": 1
          },
          "autotypenumbers": "strict",
          "coloraxis": {
           "colorbar": {
            "outlinewidth": 0,
            "ticks": ""
           }
          },
          "colorscale": {
           "diverging": [
            [
             0,
             "#8e0152"
            ],
            [
             0.1,
             "#c51b7d"
            ],
            [
             0.2,
             "#de77ae"
            ],
            [
             0.3,
             "#f1b6da"
            ],
            [
             0.4,
             "#fde0ef"
            ],
            [
             0.5,
             "#f7f7f7"
            ],
            [
             0.6,
             "#e6f5d0"
            ],
            [
             0.7,
             "#b8e186"
            ],
            [
             0.8,
             "#7fbc41"
            ],
            [
             0.9,
             "#4d9221"
            ],
            [
             1,
             "#276419"
            ]
           ],
           "sequential": [
            [
             0,
             "#0d0887"
            ],
            [
             0.1111111111111111,
             "#46039f"
            ],
            [
             0.2222222222222222,
             "#7201a8"
            ],
            [
             0.3333333333333333,
             "#9c179e"
            ],
            [
             0.4444444444444444,
             "#bd3786"
            ],
            [
             0.5555555555555556,
             "#d8576b"
            ],
            [
             0.6666666666666666,
             "#ed7953"
            ],
            [
             0.7777777777777778,
             "#fb9f3a"
            ],
            [
             0.8888888888888888,
             "#fdca26"
            ],
            [
             1,
             "#f0f921"
            ]
           ],
           "sequentialminus": [
            [
             0,
             "#0d0887"
            ],
            [
             0.1111111111111111,
             "#46039f"
            ],
            [
             0.2222222222222222,
             "#7201a8"
            ],
            [
             0.3333333333333333,
             "#9c179e"
            ],
            [
             0.4444444444444444,
             "#bd3786"
            ],
            [
             0.5555555555555556,
             "#d8576b"
            ],
            [
             0.6666666666666666,
             "#ed7953"
            ],
            [
             0.7777777777777778,
             "#fb9f3a"
            ],
            [
             0.8888888888888888,
             "#fdca26"
            ],
            [
             1,
             "#f0f921"
            ]
           ]
          },
          "colorway": [
           "#636efa",
           "#EF553B",
           "#00cc96",
           "#ab63fa",
           "#FFA15A",
           "#19d3f3",
           "#FF6692",
           "#B6E880",
           "#FF97FF",
           "#FECB52"
          ],
          "font": {
           "color": "#2a3f5f"
          },
          "geo": {
           "bgcolor": "white",
           "lakecolor": "white",
           "landcolor": "#E5ECF6",
           "showlakes": true,
           "showland": true,
           "subunitcolor": "white"
          },
          "hoverlabel": {
           "align": "left"
          },
          "hovermode": "closest",
          "mapbox": {
           "style": "light"
          },
          "paper_bgcolor": "white",
          "plot_bgcolor": "#E5ECF6",
          "polar": {
           "angularaxis": {
            "gridcolor": "white",
            "linecolor": "white",
            "ticks": ""
           },
           "bgcolor": "#E5ECF6",
           "radialaxis": {
            "gridcolor": "white",
            "linecolor": "white",
            "ticks": ""
           }
          },
          "scene": {
           "xaxis": {
            "backgroundcolor": "#E5ECF6",
            "gridcolor": "white",
            "gridwidth": 2,
            "linecolor": "white",
            "showbackground": true,
            "ticks": "",
            "zerolinecolor": "white"
           },
           "yaxis": {
            "backgroundcolor": "#E5ECF6",
            "gridcolor": "white",
            "gridwidth": 2,
            "linecolor": "white",
            "showbackground": true,
            "ticks": "",
            "zerolinecolor": "white"
           },
           "zaxis": {
            "backgroundcolor": "#E5ECF6",
            "gridcolor": "white",
            "gridwidth": 2,
            "linecolor": "white",
            "showbackground": true,
            "ticks": "",
            "zerolinecolor": "white"
           }
          },
          "shapedefaults": {
           "line": {
            "color": "#2a3f5f"
           }
          },
          "ternary": {
           "aaxis": {
            "gridcolor": "white",
            "linecolor": "white",
            "ticks": ""
           },
           "baxis": {
            "gridcolor": "white",
            "linecolor": "white",
            "ticks": ""
           },
           "bgcolor": "#E5ECF6",
           "caxis": {
            "gridcolor": "white",
            "linecolor": "white",
            "ticks": ""
           }
          },
          "title": {
           "x": 0.05
          },
          "xaxis": {
           "automargin": true,
           "gridcolor": "white",
           "linecolor": "white",
           "ticks": "",
           "title": {
            "standoff": 15
           },
           "zerolinecolor": "white",
           "zerolinewidth": 2
          },
          "yaxis": {
           "automargin": true,
           "gridcolor": "white",
           "linecolor": "white",
           "ticks": "",
           "title": {
            "standoff": 15
           },
           "zerolinecolor": "white",
           "zerolinewidth": 2
          }
         }
        },
        "title": {
         "text": "Average Transaction Amount by Gender (Funnel Chart)"
        }
       }
      }
     },
     "metadata": {},
     "output_type": "display_data"
    }
   ],
   "source": [
    "import plotly.graph_objects as go\n",
    "\n",
    "gender_avg = df.groupby('Gender')['Amount'].mean().sort_values(ascending=False)\n",
    "\n",
    "fig = go.Figure(go.Funnel(\n",
    "    y = gender_avg.index,\n",
    "    x = gender_avg.values,\n",
    "    textinfo = \"value+percent previous\"))\n",
    "\n",
    "fig.update_layout(title='Average Transaction Amount by Gender (Funnel Chart)')\n",
    "fig.show()\n"
   ]
  },
  {
   "cell_type": "markdown",
   "id": "ca209ca4",
   "metadata": {},
   "source": [
    "17.Which transaction purpose is most likely to fail"
   ]
  },
  {
   "cell_type": "code",
   "execution_count": 112,
   "id": "48bb2710",
   "metadata": {},
   "outputs": [
    {
     "name": "stdout",
     "output_type": "stream",
     "text": [
      "Purpose\n",
      "Shopping    3997\n",
      "Travel         2\n",
      "Food           1\n",
      "Name: count, dtype: int64\n"
     ]
    }
   ],
   "source": [
    "fai=df[df['Status'] == 'Failed']['Purpose'].value_counts()\n",
    "print(fai)"
   ]
  },
  {
   "cell_type": "markdown",
   "id": "7cb5b874",
   "metadata": {},
   "source": [
    "18.What is the total transaction value handled by each bank"
   ]
  },
  {
   "cell_type": "code",
   "execution_count": 113,
   "id": "48e18fcc",
   "metadata": {},
   "outputs": [
    {
     "data": {
      "text/plain": [
       "BankNameSent\n",
       "SBI Bank      5066268.83\n",
       "HDFC Bank     5046376.96\n",
       "Axis Bank     4909849.22\n",
       "ICICI Bank    4849779.02\n",
       "Name: Amount, dtype: float64"
      ]
     },
     "execution_count": 113,
     "metadata": {},
     "output_type": "execute_result"
    }
   ],
   "source": [
    "df.groupby('BankNameSent')['Amount'].sum().sort_values(ascending=False).head()"
   ]
  },
  {
   "cell_type": "markdown",
   "id": "8a02b3dd",
   "metadata": {},
   "source": [
    "19.Daily transaction trend"
   ]
  },
  {
   "cell_type": "code",
   "execution_count": 6,
   "id": "ff335775",
   "metadata": {},
   "outputs": [
    {
     "data": {
      "application/vnd.plotly.v1+json": {
       "config": {
        "plotlyServerURL": "https://plot.ly"
       },
       "data": [
        {
         "hovertemplate": "TransactionDate=%{x}<br>TransactionCount=%{y}<extra></extra>",
         "legendgroup": "",
         "line": {
          "color": "#636efa",
          "dash": "solid"
         },
         "marker": {
          "symbol": "circle"
         },
         "mode": "lines",
         "name": "",
         "orientation": "v",
         "showlegend": false,
         "type": "scatter",
         "x": [
          "2024-01-01",
          "2024-01-07",
          "2024-01-13",
          "2024-01-19",
          "2024-01-25",
          "2024-02-02",
          "2024-02-08",
          "2024-02-14",
          "2024-02-20",
          "2024-02-26",
          "2024-03-03",
          "2024-03-09",
          "2024-03-15",
          "2024-03-21",
          "2024-03-27",
          "2024-04-04",
          "2024-04-10",
          "2024-04-16",
          "2024-04-22",
          "2024-04-28",
          "2024-05-05",
          "2024-05-11",
          "2024-05-17",
          "2024-05-23",
          "2024-05-29",
          "2024-06-06",
          "2024-06-12",
          "2024-06-18",
          "2024-06-24",
          "2024-06-30",
          "2024-07-01",
          "2024-07-07",
          "2024-07-13",
          "2024-07-19",
          "2024-07-25",
          "2024-08-02",
          "2024-08-08",
          "2024-08-14",
          "2024-08-20",
          "2024-08-26",
          "2024-09-03",
          "2024-09-09",
          "2024-09-15",
          "2024-09-21",
          "2024-09-27",
          "2024-10-04",
          "2024-10-10",
          "2024-10-16",
          "2024-10-22",
          "2024-10-28",
          "2024-11-05",
          "2024-11-11",
          "2024-11-17",
          "2024-11-23",
          "2024-11-29",
          "2024-12-06",
          "2024-12-12",
          "2024-12-18",
          "2024-12-24",
          "2024-12-30"
         ],
         "xaxis": "x",
         "y": {
          "bdata": "TQFNAU4BTQFNAU4BTQFOAU0BTQFOAU0BTgFNAU0BTgFNAU4BTQFNAU4BTQFOAU0BTQFOAU0BTgFNAU0BTQFOAU0BTgFNAU0BTgFNAU4BTQFNAU4BTQFOAU0BTQFOAU0BTQFNAU0BTgFNAU0BTQFNAU4BTQFNAU0B",
          "dtype": "i2"
         },
         "yaxis": "y"
        }
       ],
       "layout": {
        "legend": {
         "tracegroupgap": 0
        },
        "template": {
         "data": {
          "bar": [
           {
            "error_x": {
             "color": "#2a3f5f"
            },
            "error_y": {
             "color": "#2a3f5f"
            },
            "marker": {
             "line": {
              "color": "#E5ECF6",
              "width": 0.5
             },
             "pattern": {
              "fillmode": "overlay",
              "size": 10,
              "solidity": 0.2
             }
            },
            "type": "bar"
           }
          ],
          "barpolar": [
           {
            "marker": {
             "line": {
              "color": "#E5ECF6",
              "width": 0.5
             },
             "pattern": {
              "fillmode": "overlay",
              "size": 10,
              "solidity": 0.2
             }
            },
            "type": "barpolar"
           }
          ],
          "carpet": [
           {
            "aaxis": {
             "endlinecolor": "#2a3f5f",
             "gridcolor": "white",
             "linecolor": "white",
             "minorgridcolor": "white",
             "startlinecolor": "#2a3f5f"
            },
            "baxis": {
             "endlinecolor": "#2a3f5f",
             "gridcolor": "white",
             "linecolor": "white",
             "minorgridcolor": "white",
             "startlinecolor": "#2a3f5f"
            },
            "type": "carpet"
           }
          ],
          "choropleth": [
           {
            "colorbar": {
             "outlinewidth": 0,
             "ticks": ""
            },
            "type": "choropleth"
           }
          ],
          "contour": [
           {
            "colorbar": {
             "outlinewidth": 0,
             "ticks": ""
            },
            "colorscale": [
             [
              0,
              "#0d0887"
             ],
             [
              0.1111111111111111,
              "#46039f"
             ],
             [
              0.2222222222222222,
              "#7201a8"
             ],
             [
              0.3333333333333333,
              "#9c179e"
             ],
             [
              0.4444444444444444,
              "#bd3786"
             ],
             [
              0.5555555555555556,
              "#d8576b"
             ],
             [
              0.6666666666666666,
              "#ed7953"
             ],
             [
              0.7777777777777778,
              "#fb9f3a"
             ],
             [
              0.8888888888888888,
              "#fdca26"
             ],
             [
              1,
              "#f0f921"
             ]
            ],
            "type": "contour"
           }
          ],
          "contourcarpet": [
           {
            "colorbar": {
             "outlinewidth": 0,
             "ticks": ""
            },
            "type": "contourcarpet"
           }
          ],
          "heatmap": [
           {
            "colorbar": {
             "outlinewidth": 0,
             "ticks": ""
            },
            "colorscale": [
             [
              0,
              "#0d0887"
             ],
             [
              0.1111111111111111,
              "#46039f"
             ],
             [
              0.2222222222222222,
              "#7201a8"
             ],
             [
              0.3333333333333333,
              "#9c179e"
             ],
             [
              0.4444444444444444,
              "#bd3786"
             ],
             [
              0.5555555555555556,
              "#d8576b"
             ],
             [
              0.6666666666666666,
              "#ed7953"
             ],
             [
              0.7777777777777778,
              "#fb9f3a"
             ],
             [
              0.8888888888888888,
              "#fdca26"
             ],
             [
              1,
              "#f0f921"
             ]
            ],
            "type": "heatmap"
           }
          ],
          "histogram": [
           {
            "marker": {
             "pattern": {
              "fillmode": "overlay",
              "size": 10,
              "solidity": 0.2
             }
            },
            "type": "histogram"
           }
          ],
          "histogram2d": [
           {
            "colorbar": {
             "outlinewidth": 0,
             "ticks": ""
            },
            "colorscale": [
             [
              0,
              "#0d0887"
             ],
             [
              0.1111111111111111,
              "#46039f"
             ],
             [
              0.2222222222222222,
              "#7201a8"
             ],
             [
              0.3333333333333333,
              "#9c179e"
             ],
             [
              0.4444444444444444,
              "#bd3786"
             ],
             [
              0.5555555555555556,
              "#d8576b"
             ],
             [
              0.6666666666666666,
              "#ed7953"
             ],
             [
              0.7777777777777778,
              "#fb9f3a"
             ],
             [
              0.8888888888888888,
              "#fdca26"
             ],
             [
              1,
              "#f0f921"
             ]
            ],
            "type": "histogram2d"
           }
          ],
          "histogram2dcontour": [
           {
            "colorbar": {
             "outlinewidth": 0,
             "ticks": ""
            },
            "colorscale": [
             [
              0,
              "#0d0887"
             ],
             [
              0.1111111111111111,
              "#46039f"
             ],
             [
              0.2222222222222222,
              "#7201a8"
             ],
             [
              0.3333333333333333,
              "#9c179e"
             ],
             [
              0.4444444444444444,
              "#bd3786"
             ],
             [
              0.5555555555555556,
              "#d8576b"
             ],
             [
              0.6666666666666666,
              "#ed7953"
             ],
             [
              0.7777777777777778,
              "#fb9f3a"
             ],
             [
              0.8888888888888888,
              "#fdca26"
             ],
             [
              1,
              "#f0f921"
             ]
            ],
            "type": "histogram2dcontour"
           }
          ],
          "mesh3d": [
           {
            "colorbar": {
             "outlinewidth": 0,
             "ticks": ""
            },
            "type": "mesh3d"
           }
          ],
          "parcoords": [
           {
            "line": {
             "colorbar": {
              "outlinewidth": 0,
              "ticks": ""
             }
            },
            "type": "parcoords"
           }
          ],
          "pie": [
           {
            "automargin": true,
            "type": "pie"
           }
          ],
          "scatter": [
           {
            "fillpattern": {
             "fillmode": "overlay",
             "size": 10,
             "solidity": 0.2
            },
            "type": "scatter"
           }
          ],
          "scatter3d": [
           {
            "line": {
             "colorbar": {
              "outlinewidth": 0,
              "ticks": ""
             }
            },
            "marker": {
             "colorbar": {
              "outlinewidth": 0,
              "ticks": ""
             }
            },
            "type": "scatter3d"
           }
          ],
          "scattercarpet": [
           {
            "marker": {
             "colorbar": {
              "outlinewidth": 0,
              "ticks": ""
             }
            },
            "type": "scattercarpet"
           }
          ],
          "scattergeo": [
           {
            "marker": {
             "colorbar": {
              "outlinewidth": 0,
              "ticks": ""
             }
            },
            "type": "scattergeo"
           }
          ],
          "scattergl": [
           {
            "marker": {
             "colorbar": {
              "outlinewidth": 0,
              "ticks": ""
             }
            },
            "type": "scattergl"
           }
          ],
          "scattermap": [
           {
            "marker": {
             "colorbar": {
              "outlinewidth": 0,
              "ticks": ""
             }
            },
            "type": "scattermap"
           }
          ],
          "scattermapbox": [
           {
            "marker": {
             "colorbar": {
              "outlinewidth": 0,
              "ticks": ""
             }
            },
            "type": "scattermapbox"
           }
          ],
          "scatterpolar": [
           {
            "marker": {
             "colorbar": {
              "outlinewidth": 0,
              "ticks": ""
             }
            },
            "type": "scatterpolar"
           }
          ],
          "scatterpolargl": [
           {
            "marker": {
             "colorbar": {
              "outlinewidth": 0,
              "ticks": ""
             }
            },
            "type": "scatterpolargl"
           }
          ],
          "scatterternary": [
           {
            "marker": {
             "colorbar": {
              "outlinewidth": 0,
              "ticks": ""
             }
            },
            "type": "scatterternary"
           }
          ],
          "surface": [
           {
            "colorbar": {
             "outlinewidth": 0,
             "ticks": ""
            },
            "colorscale": [
             [
              0,
              "#0d0887"
             ],
             [
              0.1111111111111111,
              "#46039f"
             ],
             [
              0.2222222222222222,
              "#7201a8"
             ],
             [
              0.3333333333333333,
              "#9c179e"
             ],
             [
              0.4444444444444444,
              "#bd3786"
             ],
             [
              0.5555555555555556,
              "#d8576b"
             ],
             [
              0.6666666666666666,
              "#ed7953"
             ],
             [
              0.7777777777777778,
              "#fb9f3a"
             ],
             [
              0.8888888888888888,
              "#fdca26"
             ],
             [
              1,
              "#f0f921"
             ]
            ],
            "type": "surface"
           }
          ],
          "table": [
           {
            "cells": {
             "fill": {
              "color": "#EBF0F8"
             },
             "line": {
              "color": "white"
             }
            },
            "header": {
             "fill": {
              "color": "#C8D4E3"
             },
             "line": {
              "color": "white"
             }
            },
            "type": "table"
           }
          ]
         },
         "layout": {
          "annotationdefaults": {
           "arrowcolor": "#2a3f5f",
           "arrowhead": 0,
           "arrowwidth": 1
          },
          "autotypenumbers": "strict",
          "coloraxis": {
           "colorbar": {
            "outlinewidth": 0,
            "ticks": ""
           }
          },
          "colorscale": {
           "diverging": [
            [
             0,
             "#8e0152"
            ],
            [
             0.1,
             "#c51b7d"
            ],
            [
             0.2,
             "#de77ae"
            ],
            [
             0.3,
             "#f1b6da"
            ],
            [
             0.4,
             "#fde0ef"
            ],
            [
             0.5,
             "#f7f7f7"
            ],
            [
             0.6,
             "#e6f5d0"
            ],
            [
             0.7,
             "#b8e186"
            ],
            [
             0.8,
             "#7fbc41"
            ],
            [
             0.9,
             "#4d9221"
            ],
            [
             1,
             "#276419"
            ]
           ],
           "sequential": [
            [
             0,
             "#0d0887"
            ],
            [
             0.1111111111111111,
             "#46039f"
            ],
            [
             0.2222222222222222,
             "#7201a8"
            ],
            [
             0.3333333333333333,
             "#9c179e"
            ],
            [
             0.4444444444444444,
             "#bd3786"
            ],
            [
             0.5555555555555556,
             "#d8576b"
            ],
            [
             0.6666666666666666,
             "#ed7953"
            ],
            [
             0.7777777777777778,
             "#fb9f3a"
            ],
            [
             0.8888888888888888,
             "#fdca26"
            ],
            [
             1,
             "#f0f921"
            ]
           ],
           "sequentialminus": [
            [
             0,
             "#0d0887"
            ],
            [
             0.1111111111111111,
             "#46039f"
            ],
            [
             0.2222222222222222,
             "#7201a8"
            ],
            [
             0.3333333333333333,
             "#9c179e"
            ],
            [
             0.4444444444444444,
             "#bd3786"
            ],
            [
             0.5555555555555556,
             "#d8576b"
            ],
            [
             0.6666666666666666,
             "#ed7953"
            ],
            [
             0.7777777777777778,
             "#fb9f3a"
            ],
            [
             0.8888888888888888,
             "#fdca26"
            ],
            [
             1,
             "#f0f921"
            ]
           ]
          },
          "colorway": [
           "#636efa",
           "#EF553B",
           "#00cc96",
           "#ab63fa",
           "#FFA15A",
           "#19d3f3",
           "#FF6692",
           "#B6E880",
           "#FF97FF",
           "#FECB52"
          ],
          "font": {
           "color": "#2a3f5f"
          },
          "geo": {
           "bgcolor": "white",
           "lakecolor": "white",
           "landcolor": "#E5ECF6",
           "showlakes": true,
           "showland": true,
           "subunitcolor": "white"
          },
          "hoverlabel": {
           "align": "left"
          },
          "hovermode": "closest",
          "mapbox": {
           "style": "light"
          },
          "paper_bgcolor": "white",
          "plot_bgcolor": "#E5ECF6",
          "polar": {
           "angularaxis": {
            "gridcolor": "white",
            "linecolor": "white",
            "ticks": ""
           },
           "bgcolor": "#E5ECF6",
           "radialaxis": {
            "gridcolor": "white",
            "linecolor": "white",
            "ticks": ""
           }
          },
          "scene": {
           "xaxis": {
            "backgroundcolor": "#E5ECF6",
            "gridcolor": "white",
            "gridwidth": 2,
            "linecolor": "white",
            "showbackground": true,
            "ticks": "",
            "zerolinecolor": "white"
           },
           "yaxis": {
            "backgroundcolor": "#E5ECF6",
            "gridcolor": "white",
            "gridwidth": 2,
            "linecolor": "white",
            "showbackground": true,
            "ticks": "",
            "zerolinecolor": "white"
           },
           "zaxis": {
            "backgroundcolor": "#E5ECF6",
            "gridcolor": "white",
            "gridwidth": 2,
            "linecolor": "white",
            "showbackground": true,
            "ticks": "",
            "zerolinecolor": "white"
           }
          },
          "shapedefaults": {
           "line": {
            "color": "#2a3f5f"
           }
          },
          "ternary": {
           "aaxis": {
            "gridcolor": "white",
            "linecolor": "white",
            "ticks": ""
           },
           "baxis": {
            "gridcolor": "white",
            "linecolor": "white",
            "ticks": ""
           },
           "bgcolor": "#E5ECF6",
           "caxis": {
            "gridcolor": "white",
            "linecolor": "white",
            "ticks": ""
           }
          },
          "title": {
           "x": 0.05
          },
          "xaxis": {
           "automargin": true,
           "gridcolor": "white",
           "linecolor": "white",
           "ticks": "",
           "title": {
            "standoff": 15
           },
           "zerolinecolor": "white",
           "zerolinewidth": 2
          },
          "yaxis": {
           "automargin": true,
           "gridcolor": "white",
           "linecolor": "white",
           "ticks": "",
           "title": {
            "standoff": 15
           },
           "zerolinecolor": "white",
           "zerolinewidth": 2
          }
         }
        },
        "title": {
         "text": "Daily UPI Transaction Count"
        },
        "xaxis": {
         "anchor": "y",
         "domain": [
          0,
          1
         ],
         "title": {
          "text": "TransactionDate"
         }
        },
        "yaxis": {
         "anchor": "x",
         "domain": [
          0,
          1
         ],
         "title": {
          "text": "TransactionCount"
         }
        }
       }
      }
     },
     "metadata": {},
     "output_type": "display_data"
    }
   ],
   "source": [
    "import plotly.express as px\n",
    "txn_by_date = df.groupby(df['TransactionDate'].dt.date)['TransactionID'].count().reset_index()\n",
    "txn_by_date.columns = ['TransactionDate', 'TransactionCount']\n",
    "\n",
    "fig = px.line(txn_by_date, x='TransactionDate', y='TransactionCount', title='Daily UPI Transaction Count')\n",
    "fig.show()"
   ]
  },
  {
   "cell_type": "markdown",
   "id": "25a4a67f",
   "metadata": {},
   "source": [
    "20.What is the standard deviation of transaction amounts across all users"
   ]
  },
  {
   "cell_type": "code",
   "execution_count": 115,
   "id": "1b67bd0f",
   "metadata": {},
   "outputs": [
    {
     "data": {
      "text/plain": [
       "np.float64(576.255695488082)"
      ]
     },
     "execution_count": 115,
     "metadata": {},
     "output_type": "execute_result"
    }
   ],
   "source": [
    "df['Amount'].std()"
   ]
  },
  {
   "cell_type": "markdown",
   "id": "69ab5eb4",
   "metadata": {},
   "source": [
    "21.Which merchants are most popular (Bar Chart)"
   ]
  },
  {
   "cell_type": "code",
   "execution_count": 4,
   "id": "36b13fa0",
   "metadata": {},
   "outputs": [
    {
     "data": {
      "application/vnd.plotly.v1+json": {
       "config": {
        "plotlyServerURL": "https://plot.ly"
       },
       "data": [
        {
         "hovertemplate": "Merchant=%{x}<br>Count=%{y}<extra></extra>",
         "legendgroup": "",
         "marker": {
          "color": "#636efa",
          "pattern": {
           "shape": ""
          }
         },
         "name": "",
         "orientation": "v",
         "showlegend": false,
         "textposition": "auto",
         "type": "bar",
         "x": [
          "Amazon",
          "Swiggy",
          "IRCTC"
         ],
         "xaxis": "x",
         "y": {
          "bdata": "6g+dD5MP",
          "dtype": "i2"
         },
         "yaxis": "y"
        }
       ],
       "layout": {
        "barmode": "relative",
        "legend": {
         "tracegroupgap": 0
        },
        "template": {
         "data": {
          "bar": [
           {
            "error_x": {
             "color": "#2a3f5f"
            },
            "error_y": {
             "color": "#2a3f5f"
            },
            "marker": {
             "line": {
              "color": "#E5ECF6",
              "width": 0.5
             },
             "pattern": {
              "fillmode": "overlay",
              "size": 10,
              "solidity": 0.2
             }
            },
            "type": "bar"
           }
          ],
          "barpolar": [
           {
            "marker": {
             "line": {
              "color": "#E5ECF6",
              "width": 0.5
             },
             "pattern": {
              "fillmode": "overlay",
              "size": 10,
              "solidity": 0.2
             }
            },
            "type": "barpolar"
           }
          ],
          "carpet": [
           {
            "aaxis": {
             "endlinecolor": "#2a3f5f",
             "gridcolor": "white",
             "linecolor": "white",
             "minorgridcolor": "white",
             "startlinecolor": "#2a3f5f"
            },
            "baxis": {
             "endlinecolor": "#2a3f5f",
             "gridcolor": "white",
             "linecolor": "white",
             "minorgridcolor": "white",
             "startlinecolor": "#2a3f5f"
            },
            "type": "carpet"
           }
          ],
          "choropleth": [
           {
            "colorbar": {
             "outlinewidth": 0,
             "ticks": ""
            },
            "type": "choropleth"
           }
          ],
          "contour": [
           {
            "colorbar": {
             "outlinewidth": 0,
             "ticks": ""
            },
            "colorscale": [
             [
              0,
              "#0d0887"
             ],
             [
              0.1111111111111111,
              "#46039f"
             ],
             [
              0.2222222222222222,
              "#7201a8"
             ],
             [
              0.3333333333333333,
              "#9c179e"
             ],
             [
              0.4444444444444444,
              "#bd3786"
             ],
             [
              0.5555555555555556,
              "#d8576b"
             ],
             [
              0.6666666666666666,
              "#ed7953"
             ],
             [
              0.7777777777777778,
              "#fb9f3a"
             ],
             [
              0.8888888888888888,
              "#fdca26"
             ],
             [
              1,
              "#f0f921"
             ]
            ],
            "type": "contour"
           }
          ],
          "contourcarpet": [
           {
            "colorbar": {
             "outlinewidth": 0,
             "ticks": ""
            },
            "type": "contourcarpet"
           }
          ],
          "heatmap": [
           {
            "colorbar": {
             "outlinewidth": 0,
             "ticks": ""
            },
            "colorscale": [
             [
              0,
              "#0d0887"
             ],
             [
              0.1111111111111111,
              "#46039f"
             ],
             [
              0.2222222222222222,
              "#7201a8"
             ],
             [
              0.3333333333333333,
              "#9c179e"
             ],
             [
              0.4444444444444444,
              "#bd3786"
             ],
             [
              0.5555555555555556,
              "#d8576b"
             ],
             [
              0.6666666666666666,
              "#ed7953"
             ],
             [
              0.7777777777777778,
              "#fb9f3a"
             ],
             [
              0.8888888888888888,
              "#fdca26"
             ],
             [
              1,
              "#f0f921"
             ]
            ],
            "type": "heatmap"
           }
          ],
          "histogram": [
           {
            "marker": {
             "pattern": {
              "fillmode": "overlay",
              "size": 10,
              "solidity": 0.2
             }
            },
            "type": "histogram"
           }
          ],
          "histogram2d": [
           {
            "colorbar": {
             "outlinewidth": 0,
             "ticks": ""
            },
            "colorscale": [
             [
              0,
              "#0d0887"
             ],
             [
              0.1111111111111111,
              "#46039f"
             ],
             [
              0.2222222222222222,
              "#7201a8"
             ],
             [
              0.3333333333333333,
              "#9c179e"
             ],
             [
              0.4444444444444444,
              "#bd3786"
             ],
             [
              0.5555555555555556,
              "#d8576b"
             ],
             [
              0.6666666666666666,
              "#ed7953"
             ],
             [
              0.7777777777777778,
              "#fb9f3a"
             ],
             [
              0.8888888888888888,
              "#fdca26"
             ],
             [
              1,
              "#f0f921"
             ]
            ],
            "type": "histogram2d"
           }
          ],
          "histogram2dcontour": [
           {
            "colorbar": {
             "outlinewidth": 0,
             "ticks": ""
            },
            "colorscale": [
             [
              0,
              "#0d0887"
             ],
             [
              0.1111111111111111,
              "#46039f"
             ],
             [
              0.2222222222222222,
              "#7201a8"
             ],
             [
              0.3333333333333333,
              "#9c179e"
             ],
             [
              0.4444444444444444,
              "#bd3786"
             ],
             [
              0.5555555555555556,
              "#d8576b"
             ],
             [
              0.6666666666666666,
              "#ed7953"
             ],
             [
              0.7777777777777778,
              "#fb9f3a"
             ],
             [
              0.8888888888888888,
              "#fdca26"
             ],
             [
              1,
              "#f0f921"
             ]
            ],
            "type": "histogram2dcontour"
           }
          ],
          "mesh3d": [
           {
            "colorbar": {
             "outlinewidth": 0,
             "ticks": ""
            },
            "type": "mesh3d"
           }
          ],
          "parcoords": [
           {
            "line": {
             "colorbar": {
              "outlinewidth": 0,
              "ticks": ""
             }
            },
            "type": "parcoords"
           }
          ],
          "pie": [
           {
            "automargin": true,
            "type": "pie"
           }
          ],
          "scatter": [
           {
            "fillpattern": {
             "fillmode": "overlay",
             "size": 10,
             "solidity": 0.2
            },
            "type": "scatter"
           }
          ],
          "scatter3d": [
           {
            "line": {
             "colorbar": {
              "outlinewidth": 0,
              "ticks": ""
             }
            },
            "marker": {
             "colorbar": {
              "outlinewidth": 0,
              "ticks": ""
             }
            },
            "type": "scatter3d"
           }
          ],
          "scattercarpet": [
           {
            "marker": {
             "colorbar": {
              "outlinewidth": 0,
              "ticks": ""
             }
            },
            "type": "scattercarpet"
           }
          ],
          "scattergeo": [
           {
            "marker": {
             "colorbar": {
              "outlinewidth": 0,
              "ticks": ""
             }
            },
            "type": "scattergeo"
           }
          ],
          "scattergl": [
           {
            "marker": {
             "colorbar": {
              "outlinewidth": 0,
              "ticks": ""
             }
            },
            "type": "scattergl"
           }
          ],
          "scattermap": [
           {
            "marker": {
             "colorbar": {
              "outlinewidth": 0,
              "ticks": ""
             }
            },
            "type": "scattermap"
           }
          ],
          "scattermapbox": [
           {
            "marker": {
             "colorbar": {
              "outlinewidth": 0,
              "ticks": ""
             }
            },
            "type": "scattermapbox"
           }
          ],
          "scatterpolar": [
           {
            "marker": {
             "colorbar": {
              "outlinewidth": 0,
              "ticks": ""
             }
            },
            "type": "scatterpolar"
           }
          ],
          "scatterpolargl": [
           {
            "marker": {
             "colorbar": {
              "outlinewidth": 0,
              "ticks": ""
             }
            },
            "type": "scatterpolargl"
           }
          ],
          "scatterternary": [
           {
            "marker": {
             "colorbar": {
              "outlinewidth": 0,
              "ticks": ""
             }
            },
            "type": "scatterternary"
           }
          ],
          "surface": [
           {
            "colorbar": {
             "outlinewidth": 0,
             "ticks": ""
            },
            "colorscale": [
             [
              0,
              "#0d0887"
             ],
             [
              0.1111111111111111,
              "#46039f"
             ],
             [
              0.2222222222222222,
              "#7201a8"
             ],
             [
              0.3333333333333333,
              "#9c179e"
             ],
             [
              0.4444444444444444,
              "#bd3786"
             ],
             [
              0.5555555555555556,
              "#d8576b"
             ],
             [
              0.6666666666666666,
              "#ed7953"
             ],
             [
              0.7777777777777778,
              "#fb9f3a"
             ],
             [
              0.8888888888888888,
              "#fdca26"
             ],
             [
              1,
              "#f0f921"
             ]
            ],
            "type": "surface"
           }
          ],
          "table": [
           {
            "cells": {
             "fill": {
              "color": "#EBF0F8"
             },
             "line": {
              "color": "white"
             }
            },
            "header": {
             "fill": {
              "color": "#C8D4E3"
             },
             "line": {
              "color": "white"
             }
            },
            "type": "table"
           }
          ]
         },
         "layout": {
          "annotationdefaults": {
           "arrowcolor": "#2a3f5f",
           "arrowhead": 0,
           "arrowwidth": 1
          },
          "autotypenumbers": "strict",
          "coloraxis": {
           "colorbar": {
            "outlinewidth": 0,
            "ticks": ""
           }
          },
          "colorscale": {
           "diverging": [
            [
             0,
             "#8e0152"
            ],
            [
             0.1,
             "#c51b7d"
            ],
            [
             0.2,
             "#de77ae"
            ],
            [
             0.3,
             "#f1b6da"
            ],
            [
             0.4,
             "#fde0ef"
            ],
            [
             0.5,
             "#f7f7f7"
            ],
            [
             0.6,
             "#e6f5d0"
            ],
            [
             0.7,
             "#b8e186"
            ],
            [
             0.8,
             "#7fbc41"
            ],
            [
             0.9,
             "#4d9221"
            ],
            [
             1,
             "#276419"
            ]
           ],
           "sequential": [
            [
             0,
             "#0d0887"
            ],
            [
             0.1111111111111111,
             "#46039f"
            ],
            [
             0.2222222222222222,
             "#7201a8"
            ],
            [
             0.3333333333333333,
             "#9c179e"
            ],
            [
             0.4444444444444444,
             "#bd3786"
            ],
            [
             0.5555555555555556,
             "#d8576b"
            ],
            [
             0.6666666666666666,
             "#ed7953"
            ],
            [
             0.7777777777777778,
             "#fb9f3a"
            ],
            [
             0.8888888888888888,
             "#fdca26"
            ],
            [
             1,
             "#f0f921"
            ]
           ],
           "sequentialminus": [
            [
             0,
             "#0d0887"
            ],
            [
             0.1111111111111111,
             "#46039f"
            ],
            [
             0.2222222222222222,
             "#7201a8"
            ],
            [
             0.3333333333333333,
             "#9c179e"
            ],
            [
             0.4444444444444444,
             "#bd3786"
            ],
            [
             0.5555555555555556,
             "#d8576b"
            ],
            [
             0.6666666666666666,
             "#ed7953"
            ],
            [
             0.7777777777777778,
             "#fb9f3a"
            ],
            [
             0.8888888888888888,
             "#fdca26"
            ],
            [
             1,
             "#f0f921"
            ]
           ]
          },
          "colorway": [
           "#636efa",
           "#EF553B",
           "#00cc96",
           "#ab63fa",
           "#FFA15A",
           "#19d3f3",
           "#FF6692",
           "#B6E880",
           "#FF97FF",
           "#FECB52"
          ],
          "font": {
           "color": "#2a3f5f"
          },
          "geo": {
           "bgcolor": "white",
           "lakecolor": "white",
           "landcolor": "#E5ECF6",
           "showlakes": true,
           "showland": true,
           "subunitcolor": "white"
          },
          "hoverlabel": {
           "align": "left"
          },
          "hovermode": "closest",
          "mapbox": {
           "style": "light"
          },
          "paper_bgcolor": "white",
          "plot_bgcolor": "#E5ECF6",
          "polar": {
           "angularaxis": {
            "gridcolor": "white",
            "linecolor": "white",
            "ticks": ""
           },
           "bgcolor": "#E5ECF6",
           "radialaxis": {
            "gridcolor": "white",
            "linecolor": "white",
            "ticks": ""
           }
          },
          "scene": {
           "xaxis": {
            "backgroundcolor": "#E5ECF6",
            "gridcolor": "white",
            "gridwidth": 2,
            "linecolor": "white",
            "showbackground": true,
            "ticks": "",
            "zerolinecolor": "white"
           },
           "yaxis": {
            "backgroundcolor": "#E5ECF6",
            "gridcolor": "white",
            "gridwidth": 2,
            "linecolor": "white",
            "showbackground": true,
            "ticks": "",
            "zerolinecolor": "white"
           },
           "zaxis": {
            "backgroundcolor": "#E5ECF6",
            "gridcolor": "white",
            "gridwidth": 2,
            "linecolor": "white",
            "showbackground": true,
            "ticks": "",
            "zerolinecolor": "white"
           }
          },
          "shapedefaults": {
           "line": {
            "color": "#2a3f5f"
           }
          },
          "ternary": {
           "aaxis": {
            "gridcolor": "white",
            "linecolor": "white",
            "ticks": ""
           },
           "baxis": {
            "gridcolor": "white",
            "linecolor": "white",
            "ticks": ""
           },
           "bgcolor": "#E5ECF6",
           "caxis": {
            "gridcolor": "white",
            "linecolor": "white",
            "ticks": ""
           }
          },
          "title": {
           "x": 0.05
          },
          "xaxis": {
           "automargin": true,
           "gridcolor": "white",
           "linecolor": "white",
           "ticks": "",
           "title": {
            "standoff": 15
           },
           "zerolinecolor": "white",
           "zerolinewidth": 2
          },
          "yaxis": {
           "automargin": true,
           "gridcolor": "white",
           "linecolor": "white",
           "ticks": "",
           "title": {
            "standoff": 15
           },
           "zerolinecolor": "white",
           "zerolinewidth": 2
          }
         }
        },
        "title": {
         "text": "Top 3 Merchants"
        },
        "xaxis": {
         "anchor": "y",
         "domain": [
          0,
          1
         ],
         "title": {
          "text": "Merchant"
         }
        },
        "yaxis": {
         "anchor": "x",
         "domain": [
          0,
          1
         ],
         "title": {
          "text": "Count"
         }
        }
       }
      }
     },
     "metadata": {},
     "output_type": "display_data"
    }
   ],
   "source": [
    "import plotly.express as px\n",
    "merchant = df['MerchantName'].value_counts().head(3).reset_index()\n",
    "merchant.columns = ['Merchant', 'Count']\n",
    "fig = px.bar(merchant, x='Merchant', y='Count', title='Top 3 Merchants')\n",
    "fig.show()"
   ]
  },
  {
   "cell_type": "markdown",
   "id": "ed01fb94",
   "metadata": {},
   "source": [
    "22.Top cities with most transactions (Bar Chart)"
   ]
  },
  {
   "cell_type": "code",
   "execution_count": 33,
   "id": "e307d7c9",
   "metadata": {},
   "outputs": [
    {
     "data": {
      "application/vnd.plotly.v1+json": {
       "config": {
        "plotlyServerURL": "https://plot.ly"
       },
       "data": [
        {
         "domain": {
          "x": [
           0,
           1
          ],
          "y": [
           0,
           1
          ]
         },
         "hovertemplate": "City=%{label}<br>Count=%{value}<extra></extra>",
         "labels": [
          "Mumbai",
          "Delhi",
          "Hyderabad",
          "Bangalore"
         ],
         "legendgroup": "",
         "name": "",
         "showlegend": true,
         "type": "pie",
         "values": {
          "bdata": "wROEE3YTZRM=",
          "dtype": "i2"
         }
        }
       ],
       "layout": {
        "legend": {
         "tracegroupgap": 0
        },
        "template": {
         "data": {
          "bar": [
           {
            "error_x": {
             "color": "#2a3f5f"
            },
            "error_y": {
             "color": "#2a3f5f"
            },
            "marker": {
             "line": {
              "color": "#E5ECF6",
              "width": 0.5
             },
             "pattern": {
              "fillmode": "overlay",
              "size": 10,
              "solidity": 0.2
             }
            },
            "type": "bar"
           }
          ],
          "barpolar": [
           {
            "marker": {
             "line": {
              "color": "#E5ECF6",
              "width": 0.5
             },
             "pattern": {
              "fillmode": "overlay",
              "size": 10,
              "solidity": 0.2
             }
            },
            "type": "barpolar"
           }
          ],
          "carpet": [
           {
            "aaxis": {
             "endlinecolor": "#2a3f5f",
             "gridcolor": "white",
             "linecolor": "white",
             "minorgridcolor": "white",
             "startlinecolor": "#2a3f5f"
            },
            "baxis": {
             "endlinecolor": "#2a3f5f",
             "gridcolor": "white",
             "linecolor": "white",
             "minorgridcolor": "white",
             "startlinecolor": "#2a3f5f"
            },
            "type": "carpet"
           }
          ],
          "choropleth": [
           {
            "colorbar": {
             "outlinewidth": 0,
             "ticks": ""
            },
            "type": "choropleth"
           }
          ],
          "contour": [
           {
            "colorbar": {
             "outlinewidth": 0,
             "ticks": ""
            },
            "colorscale": [
             [
              0,
              "#0d0887"
             ],
             [
              0.1111111111111111,
              "#46039f"
             ],
             [
              0.2222222222222222,
              "#7201a8"
             ],
             [
              0.3333333333333333,
              "#9c179e"
             ],
             [
              0.4444444444444444,
              "#bd3786"
             ],
             [
              0.5555555555555556,
              "#d8576b"
             ],
             [
              0.6666666666666666,
              "#ed7953"
             ],
             [
              0.7777777777777778,
              "#fb9f3a"
             ],
             [
              0.8888888888888888,
              "#fdca26"
             ],
             [
              1,
              "#f0f921"
             ]
            ],
            "type": "contour"
           }
          ],
          "contourcarpet": [
           {
            "colorbar": {
             "outlinewidth": 0,
             "ticks": ""
            },
            "type": "contourcarpet"
           }
          ],
          "heatmap": [
           {
            "colorbar": {
             "outlinewidth": 0,
             "ticks": ""
            },
            "colorscale": [
             [
              0,
              "#0d0887"
             ],
             [
              0.1111111111111111,
              "#46039f"
             ],
             [
              0.2222222222222222,
              "#7201a8"
             ],
             [
              0.3333333333333333,
              "#9c179e"
             ],
             [
              0.4444444444444444,
              "#bd3786"
             ],
             [
              0.5555555555555556,
              "#d8576b"
             ],
             [
              0.6666666666666666,
              "#ed7953"
             ],
             [
              0.7777777777777778,
              "#fb9f3a"
             ],
             [
              0.8888888888888888,
              "#fdca26"
             ],
             [
              1,
              "#f0f921"
             ]
            ],
            "type": "heatmap"
           }
          ],
          "histogram": [
           {
            "marker": {
             "pattern": {
              "fillmode": "overlay",
              "size": 10,
              "solidity": 0.2
             }
            },
            "type": "histogram"
           }
          ],
          "histogram2d": [
           {
            "colorbar": {
             "outlinewidth": 0,
             "ticks": ""
            },
            "colorscale": [
             [
              0,
              "#0d0887"
             ],
             [
              0.1111111111111111,
              "#46039f"
             ],
             [
              0.2222222222222222,
              "#7201a8"
             ],
             [
              0.3333333333333333,
              "#9c179e"
             ],
             [
              0.4444444444444444,
              "#bd3786"
             ],
             [
              0.5555555555555556,
              "#d8576b"
             ],
             [
              0.6666666666666666,
              "#ed7953"
             ],
             [
              0.7777777777777778,
              "#fb9f3a"
             ],
             [
              0.8888888888888888,
              "#fdca26"
             ],
             [
              1,
              "#f0f921"
             ]
            ],
            "type": "histogram2d"
           }
          ],
          "histogram2dcontour": [
           {
            "colorbar": {
             "outlinewidth": 0,
             "ticks": ""
            },
            "colorscale": [
             [
              0,
              "#0d0887"
             ],
             [
              0.1111111111111111,
              "#46039f"
             ],
             [
              0.2222222222222222,
              "#7201a8"
             ],
             [
              0.3333333333333333,
              "#9c179e"
             ],
             [
              0.4444444444444444,
              "#bd3786"
             ],
             [
              0.5555555555555556,
              "#d8576b"
             ],
             [
              0.6666666666666666,
              "#ed7953"
             ],
             [
              0.7777777777777778,
              "#fb9f3a"
             ],
             [
              0.8888888888888888,
              "#fdca26"
             ],
             [
              1,
              "#f0f921"
             ]
            ],
            "type": "histogram2dcontour"
           }
          ],
          "mesh3d": [
           {
            "colorbar": {
             "outlinewidth": 0,
             "ticks": ""
            },
            "type": "mesh3d"
           }
          ],
          "parcoords": [
           {
            "line": {
             "colorbar": {
              "outlinewidth": 0,
              "ticks": ""
             }
            },
            "type": "parcoords"
           }
          ],
          "pie": [
           {
            "automargin": true,
            "type": "pie"
           }
          ],
          "scatter": [
           {
            "fillpattern": {
             "fillmode": "overlay",
             "size": 10,
             "solidity": 0.2
            },
            "type": "scatter"
           }
          ],
          "scatter3d": [
           {
            "line": {
             "colorbar": {
              "outlinewidth": 0,
              "ticks": ""
             }
            },
            "marker": {
             "colorbar": {
              "outlinewidth": 0,
              "ticks": ""
             }
            },
            "type": "scatter3d"
           }
          ],
          "scattercarpet": [
           {
            "marker": {
             "colorbar": {
              "outlinewidth": 0,
              "ticks": ""
             }
            },
            "type": "scattercarpet"
           }
          ],
          "scattergeo": [
           {
            "marker": {
             "colorbar": {
              "outlinewidth": 0,
              "ticks": ""
             }
            },
            "type": "scattergeo"
           }
          ],
          "scattergl": [
           {
            "marker": {
             "colorbar": {
              "outlinewidth": 0,
              "ticks": ""
             }
            },
            "type": "scattergl"
           }
          ],
          "scattermap": [
           {
            "marker": {
             "colorbar": {
              "outlinewidth": 0,
              "ticks": ""
             }
            },
            "type": "scattermap"
           }
          ],
          "scattermapbox": [
           {
            "marker": {
             "colorbar": {
              "outlinewidth": 0,
              "ticks": ""
             }
            },
            "type": "scattermapbox"
           }
          ],
          "scatterpolar": [
           {
            "marker": {
             "colorbar": {
              "outlinewidth": 0,
              "ticks": ""
             }
            },
            "type": "scatterpolar"
           }
          ],
          "scatterpolargl": [
           {
            "marker": {
             "colorbar": {
              "outlinewidth": 0,
              "ticks": ""
             }
            },
            "type": "scatterpolargl"
           }
          ],
          "scatterternary": [
           {
            "marker": {
             "colorbar": {
              "outlinewidth": 0,
              "ticks": ""
             }
            },
            "type": "scatterternary"
           }
          ],
          "surface": [
           {
            "colorbar": {
             "outlinewidth": 0,
             "ticks": ""
            },
            "colorscale": [
             [
              0,
              "#0d0887"
             ],
             [
              0.1111111111111111,
              "#46039f"
             ],
             [
              0.2222222222222222,
              "#7201a8"
             ],
             [
              0.3333333333333333,
              "#9c179e"
             ],
             [
              0.4444444444444444,
              "#bd3786"
             ],
             [
              0.5555555555555556,
              "#d8576b"
             ],
             [
              0.6666666666666666,
              "#ed7953"
             ],
             [
              0.7777777777777778,
              "#fb9f3a"
             ],
             [
              0.8888888888888888,
              "#fdca26"
             ],
             [
              1,
              "#f0f921"
             ]
            ],
            "type": "surface"
           }
          ],
          "table": [
           {
            "cells": {
             "fill": {
              "color": "#EBF0F8"
             },
             "line": {
              "color": "white"
             }
            },
            "header": {
             "fill": {
              "color": "#C8D4E3"
             },
             "line": {
              "color": "white"
             }
            },
            "type": "table"
           }
          ]
         },
         "layout": {
          "annotationdefaults": {
           "arrowcolor": "#2a3f5f",
           "arrowhead": 0,
           "arrowwidth": 1
          },
          "autotypenumbers": "strict",
          "coloraxis": {
           "colorbar": {
            "outlinewidth": 0,
            "ticks": ""
           }
          },
          "colorscale": {
           "diverging": [
            [
             0,
             "#8e0152"
            ],
            [
             0.1,
             "#c51b7d"
            ],
            [
             0.2,
             "#de77ae"
            ],
            [
             0.3,
             "#f1b6da"
            ],
            [
             0.4,
             "#fde0ef"
            ],
            [
             0.5,
             "#f7f7f7"
            ],
            [
             0.6,
             "#e6f5d0"
            ],
            [
             0.7,
             "#b8e186"
            ],
            [
             0.8,
             "#7fbc41"
            ],
            [
             0.9,
             "#4d9221"
            ],
            [
             1,
             "#276419"
            ]
           ],
           "sequential": [
            [
             0,
             "#0d0887"
            ],
            [
             0.1111111111111111,
             "#46039f"
            ],
            [
             0.2222222222222222,
             "#7201a8"
            ],
            [
             0.3333333333333333,
             "#9c179e"
            ],
            [
             0.4444444444444444,
             "#bd3786"
            ],
            [
             0.5555555555555556,
             "#d8576b"
            ],
            [
             0.6666666666666666,
             "#ed7953"
            ],
            [
             0.7777777777777778,
             "#fb9f3a"
            ],
            [
             0.8888888888888888,
             "#fdca26"
            ],
            [
             1,
             "#f0f921"
            ]
           ],
           "sequentialminus": [
            [
             0,
             "#0d0887"
            ],
            [
             0.1111111111111111,
             "#46039f"
            ],
            [
             0.2222222222222222,
             "#7201a8"
            ],
            [
             0.3333333333333333,
             "#9c179e"
            ],
            [
             0.4444444444444444,
             "#bd3786"
            ],
            [
             0.5555555555555556,
             "#d8576b"
            ],
            [
             0.6666666666666666,
             "#ed7953"
            ],
            [
             0.7777777777777778,
             "#fb9f3a"
            ],
            [
             0.8888888888888888,
             "#fdca26"
            ],
            [
             1,
             "#f0f921"
            ]
           ]
          },
          "colorway": [
           "#636efa",
           "#EF553B",
           "#00cc96",
           "#ab63fa",
           "#FFA15A",
           "#19d3f3",
           "#FF6692",
           "#B6E880",
           "#FF97FF",
           "#FECB52"
          ],
          "font": {
           "color": "#2a3f5f"
          },
          "geo": {
           "bgcolor": "white",
           "lakecolor": "white",
           "landcolor": "#E5ECF6",
           "showlakes": true,
           "showland": true,
           "subunitcolor": "white"
          },
          "hoverlabel": {
           "align": "left"
          },
          "hovermode": "closest",
          "mapbox": {
           "style": "light"
          },
          "paper_bgcolor": "white",
          "plot_bgcolor": "#E5ECF6",
          "polar": {
           "angularaxis": {
            "gridcolor": "white",
            "linecolor": "white",
            "ticks": ""
           },
           "bgcolor": "#E5ECF6",
           "radialaxis": {
            "gridcolor": "white",
            "linecolor": "white",
            "ticks": ""
           }
          },
          "scene": {
           "xaxis": {
            "backgroundcolor": "#E5ECF6",
            "gridcolor": "white",
            "gridwidth": 2,
            "linecolor": "white",
            "showbackground": true,
            "ticks": "",
            "zerolinecolor": "white"
           },
           "yaxis": {
            "backgroundcolor": "#E5ECF6",
            "gridcolor": "white",
            "gridwidth": 2,
            "linecolor": "white",
            "showbackground": true,
            "ticks": "",
            "zerolinecolor": "white"
           },
           "zaxis": {
            "backgroundcolor": "#E5ECF6",
            "gridcolor": "white",
            "gridwidth": 2,
            "linecolor": "white",
            "showbackground": true,
            "ticks": "",
            "zerolinecolor": "white"
           }
          },
          "shapedefaults": {
           "line": {
            "color": "#2a3f5f"
           }
          },
          "ternary": {
           "aaxis": {
            "gridcolor": "white",
            "linecolor": "white",
            "ticks": ""
           },
           "baxis": {
            "gridcolor": "white",
            "linecolor": "white",
            "ticks": ""
           },
           "bgcolor": "#E5ECF6",
           "caxis": {
            "gridcolor": "white",
            "linecolor": "white",
            "ticks": ""
           }
          },
          "title": {
           "x": 0.05
          },
          "xaxis": {
           "automargin": true,
           "gridcolor": "white",
           "linecolor": "white",
           "ticks": "",
           "title": {
            "standoff": 15
           },
           "zerolinecolor": "white",
           "zerolinewidth": 2
          },
          "yaxis": {
           "automargin": true,
           "gridcolor": "white",
           "linecolor": "white",
           "ticks": "",
           "title": {
            "standoff": 15
           },
           "zerolinecolor": "white",
           "zerolinewidth": 2
          }
         }
        },
        "title": {
         "text": "Top 4 Cities by Transactions"
        }
       }
      }
     },
     "metadata": {},
     "output_type": "display_data"
    }
   ],
   "source": [
    "city = df['City'].value_counts().head(4).reset_index()\n",
    "city.columns = ['City', 'Count']\n",
    "fig = px.pie(city, names='City', values='Count', title='Top 4 Cities by Transactions')\n",
    "fig.show()"
   ]
  },
  {
   "cell_type": "markdown",
   "id": "d9c7cea1",
   "metadata": {},
   "source": [
    "23.What % of transactions are above ₹500 (Donut Chart)"
   ]
  },
  {
   "cell_type": "code",
   "execution_count": 44,
   "id": "6f2fc0aa",
   "metadata": {},
   "outputs": [
    {
     "data": {
      "application/vnd.plotly.v1+json": {
       "config": {
        "plotlyServerURL": "https://plot.ly"
       },
       "data": [
        {
         "domain": {
          "x": [
           0,
           1
          ],
          "y": [
           0,
           1
          ]
         },
         "hole": 0.4,
         "hovertemplate": "Above_500=%{label}<br>Count=%{value}<extra></extra>",
         "labels": [
          true,
          false
         ],
         "legendgroup": "",
         "name": "",
         "showlegend": true,
         "type": "pie",
         "values": {
          "bdata": "hDqcEw==",
          "dtype": "i2"
         }
        }
       ],
       "layout": {
        "legend": {
         "tracegroupgap": 0
        },
        "template": {
         "data": {
          "bar": [
           {
            "error_x": {
             "color": "#2a3f5f"
            },
            "error_y": {
             "color": "#2a3f5f"
            },
            "marker": {
             "line": {
              "color": "#E5ECF6",
              "width": 0.5
             },
             "pattern": {
              "fillmode": "overlay",
              "size": 10,
              "solidity": 0.2
             }
            },
            "type": "bar"
           }
          ],
          "barpolar": [
           {
            "marker": {
             "line": {
              "color": "#E5ECF6",
              "width": 0.5
             },
             "pattern": {
              "fillmode": "overlay",
              "size": 10,
              "solidity": 0.2
             }
            },
            "type": "barpolar"
           }
          ],
          "carpet": [
           {
            "aaxis": {
             "endlinecolor": "#2a3f5f",
             "gridcolor": "white",
             "linecolor": "white",
             "minorgridcolor": "white",
             "startlinecolor": "#2a3f5f"
            },
            "baxis": {
             "endlinecolor": "#2a3f5f",
             "gridcolor": "white",
             "linecolor": "white",
             "minorgridcolor": "white",
             "startlinecolor": "#2a3f5f"
            },
            "type": "carpet"
           }
          ],
          "choropleth": [
           {
            "colorbar": {
             "outlinewidth": 0,
             "ticks": ""
            },
            "type": "choropleth"
           }
          ],
          "contour": [
           {
            "colorbar": {
             "outlinewidth": 0,
             "ticks": ""
            },
            "colorscale": [
             [
              0,
              "#0d0887"
             ],
             [
              0.1111111111111111,
              "#46039f"
             ],
             [
              0.2222222222222222,
              "#7201a8"
             ],
             [
              0.3333333333333333,
              "#9c179e"
             ],
             [
              0.4444444444444444,
              "#bd3786"
             ],
             [
              0.5555555555555556,
              "#d8576b"
             ],
             [
              0.6666666666666666,
              "#ed7953"
             ],
             [
              0.7777777777777778,
              "#fb9f3a"
             ],
             [
              0.8888888888888888,
              "#fdca26"
             ],
             [
              1,
              "#f0f921"
             ]
            ],
            "type": "contour"
           }
          ],
          "contourcarpet": [
           {
            "colorbar": {
             "outlinewidth": 0,
             "ticks": ""
            },
            "type": "contourcarpet"
           }
          ],
          "heatmap": [
           {
            "colorbar": {
             "outlinewidth": 0,
             "ticks": ""
            },
            "colorscale": [
             [
              0,
              "#0d0887"
             ],
             [
              0.1111111111111111,
              "#46039f"
             ],
             [
              0.2222222222222222,
              "#7201a8"
             ],
             [
              0.3333333333333333,
              "#9c179e"
             ],
             [
              0.4444444444444444,
              "#bd3786"
             ],
             [
              0.5555555555555556,
              "#d8576b"
             ],
             [
              0.6666666666666666,
              "#ed7953"
             ],
             [
              0.7777777777777778,
              "#fb9f3a"
             ],
             [
              0.8888888888888888,
              "#fdca26"
             ],
             [
              1,
              "#f0f921"
             ]
            ],
            "type": "heatmap"
           }
          ],
          "histogram": [
           {
            "marker": {
             "pattern": {
              "fillmode": "overlay",
              "size": 10,
              "solidity": 0.2
             }
            },
            "type": "histogram"
           }
          ],
          "histogram2d": [
           {
            "colorbar": {
             "outlinewidth": 0,
             "ticks": ""
            },
            "colorscale": [
             [
              0,
              "#0d0887"
             ],
             [
              0.1111111111111111,
              "#46039f"
             ],
             [
              0.2222222222222222,
              "#7201a8"
             ],
             [
              0.3333333333333333,
              "#9c179e"
             ],
             [
              0.4444444444444444,
              "#bd3786"
             ],
             [
              0.5555555555555556,
              "#d8576b"
             ],
             [
              0.6666666666666666,
              "#ed7953"
             ],
             [
              0.7777777777777778,
              "#fb9f3a"
             ],
             [
              0.8888888888888888,
              "#fdca26"
             ],
             [
              1,
              "#f0f921"
             ]
            ],
            "type": "histogram2d"
           }
          ],
          "histogram2dcontour": [
           {
            "colorbar": {
             "outlinewidth": 0,
             "ticks": ""
            },
            "colorscale": [
             [
              0,
              "#0d0887"
             ],
             [
              0.1111111111111111,
              "#46039f"
             ],
             [
              0.2222222222222222,
              "#7201a8"
             ],
             [
              0.3333333333333333,
              "#9c179e"
             ],
             [
              0.4444444444444444,
              "#bd3786"
             ],
             [
              0.5555555555555556,
              "#d8576b"
             ],
             [
              0.6666666666666666,
              "#ed7953"
             ],
             [
              0.7777777777777778,
              "#fb9f3a"
             ],
             [
              0.8888888888888888,
              "#fdca26"
             ],
             [
              1,
              "#f0f921"
             ]
            ],
            "type": "histogram2dcontour"
           }
          ],
          "mesh3d": [
           {
            "colorbar": {
             "outlinewidth": 0,
             "ticks": ""
            },
            "type": "mesh3d"
           }
          ],
          "parcoords": [
           {
            "line": {
             "colorbar": {
              "outlinewidth": 0,
              "ticks": ""
             }
            },
            "type": "parcoords"
           }
          ],
          "pie": [
           {
            "automargin": true,
            "type": "pie"
           }
          ],
          "scatter": [
           {
            "fillpattern": {
             "fillmode": "overlay",
             "size": 10,
             "solidity": 0.2
            },
            "type": "scatter"
           }
          ],
          "scatter3d": [
           {
            "line": {
             "colorbar": {
              "outlinewidth": 0,
              "ticks": ""
             }
            },
            "marker": {
             "colorbar": {
              "outlinewidth": 0,
              "ticks": ""
             }
            },
            "type": "scatter3d"
           }
          ],
          "scattercarpet": [
           {
            "marker": {
             "colorbar": {
              "outlinewidth": 0,
              "ticks": ""
             }
            },
            "type": "scattercarpet"
           }
          ],
          "scattergeo": [
           {
            "marker": {
             "colorbar": {
              "outlinewidth": 0,
              "ticks": ""
             }
            },
            "type": "scattergeo"
           }
          ],
          "scattergl": [
           {
            "marker": {
             "colorbar": {
              "outlinewidth": 0,
              "ticks": ""
             }
            },
            "type": "scattergl"
           }
          ],
          "scattermap": [
           {
            "marker": {
             "colorbar": {
              "outlinewidth": 0,
              "ticks": ""
             }
            },
            "type": "scattermap"
           }
          ],
          "scattermapbox": [
           {
            "marker": {
             "colorbar": {
              "outlinewidth": 0,
              "ticks": ""
             }
            },
            "type": "scattermapbox"
           }
          ],
          "scatterpolar": [
           {
            "marker": {
             "colorbar": {
              "outlinewidth": 0,
              "ticks": ""
             }
            },
            "type": "scatterpolar"
           }
          ],
          "scatterpolargl": [
           {
            "marker": {
             "colorbar": {
              "outlinewidth": 0,
              "ticks": ""
             }
            },
            "type": "scatterpolargl"
           }
          ],
          "scatterternary": [
           {
            "marker": {
             "colorbar": {
              "outlinewidth": 0,
              "ticks": ""
             }
            },
            "type": "scatterternary"
           }
          ],
          "surface": [
           {
            "colorbar": {
             "outlinewidth": 0,
             "ticks": ""
            },
            "colorscale": [
             [
              0,
              "#0d0887"
             ],
             [
              0.1111111111111111,
              "#46039f"
             ],
             [
              0.2222222222222222,
              "#7201a8"
             ],
             [
              0.3333333333333333,
              "#9c179e"
             ],
             [
              0.4444444444444444,
              "#bd3786"
             ],
             [
              0.5555555555555556,
              "#d8576b"
             ],
             [
              0.6666666666666666,
              "#ed7953"
             ],
             [
              0.7777777777777778,
              "#fb9f3a"
             ],
             [
              0.8888888888888888,
              "#fdca26"
             ],
             [
              1,
              "#f0f921"
             ]
            ],
            "type": "surface"
           }
          ],
          "table": [
           {
            "cells": {
             "fill": {
              "color": "#EBF0F8"
             },
             "line": {
              "color": "white"
             }
            },
            "header": {
             "fill": {
              "color": "#C8D4E3"
             },
             "line": {
              "color": "white"
             }
            },
            "type": "table"
           }
          ]
         },
         "layout": {
          "annotationdefaults": {
           "arrowcolor": "#2a3f5f",
           "arrowhead": 0,
           "arrowwidth": 1
          },
          "autotypenumbers": "strict",
          "coloraxis": {
           "colorbar": {
            "outlinewidth": 0,
            "ticks": ""
           }
          },
          "colorscale": {
           "diverging": [
            [
             0,
             "#8e0152"
            ],
            [
             0.1,
             "#c51b7d"
            ],
            [
             0.2,
             "#de77ae"
            ],
            [
             0.3,
             "#f1b6da"
            ],
            [
             0.4,
             "#fde0ef"
            ],
            [
             0.5,
             "#f7f7f7"
            ],
            [
             0.6,
             "#e6f5d0"
            ],
            [
             0.7,
             "#b8e186"
            ],
            [
             0.8,
             "#7fbc41"
            ],
            [
             0.9,
             "#4d9221"
            ],
            [
             1,
             "#276419"
            ]
           ],
           "sequential": [
            [
             0,
             "#0d0887"
            ],
            [
             0.1111111111111111,
             "#46039f"
            ],
            [
             0.2222222222222222,
             "#7201a8"
            ],
            [
             0.3333333333333333,
             "#9c179e"
            ],
            [
             0.4444444444444444,
             "#bd3786"
            ],
            [
             0.5555555555555556,
             "#d8576b"
            ],
            [
             0.6666666666666666,
             "#ed7953"
            ],
            [
             0.7777777777777778,
             "#fb9f3a"
            ],
            [
             0.8888888888888888,
             "#fdca26"
            ],
            [
             1,
             "#f0f921"
            ]
           ],
           "sequentialminus": [
            [
             0,
             "#0d0887"
            ],
            [
             0.1111111111111111,
             "#46039f"
            ],
            [
             0.2222222222222222,
             "#7201a8"
            ],
            [
             0.3333333333333333,
             "#9c179e"
            ],
            [
             0.4444444444444444,
             "#bd3786"
            ],
            [
             0.5555555555555556,
             "#d8576b"
            ],
            [
             0.6666666666666666,
             "#ed7953"
            ],
            [
             0.7777777777777778,
             "#fb9f3a"
            ],
            [
             0.8888888888888888,
             "#fdca26"
            ],
            [
             1,
             "#f0f921"
            ]
           ]
          },
          "colorway": [
           "#636efa",
           "#EF553B",
           "#00cc96",
           "#ab63fa",
           "#FFA15A",
           "#19d3f3",
           "#FF6692",
           "#B6E880",
           "#FF97FF",
           "#FECB52"
          ],
          "font": {
           "color": "#2a3f5f"
          },
          "geo": {
           "bgcolor": "white",
           "lakecolor": "white",
           "landcolor": "#E5ECF6",
           "showlakes": true,
           "showland": true,
           "subunitcolor": "white"
          },
          "hoverlabel": {
           "align": "left"
          },
          "hovermode": "closest",
          "mapbox": {
           "style": "light"
          },
          "paper_bgcolor": "white",
          "plot_bgcolor": "#E5ECF6",
          "polar": {
           "angularaxis": {
            "gridcolor": "white",
            "linecolor": "white",
            "ticks": ""
           },
           "bgcolor": "#E5ECF6",
           "radialaxis": {
            "gridcolor": "white",
            "linecolor": "white",
            "ticks": ""
           }
          },
          "scene": {
           "xaxis": {
            "backgroundcolor": "#E5ECF6",
            "gridcolor": "white",
            "gridwidth": 2,
            "linecolor": "white",
            "showbackground": true,
            "ticks": "",
            "zerolinecolor": "white"
           },
           "yaxis": {
            "backgroundcolor": "#E5ECF6",
            "gridcolor": "white",
            "gridwidth": 2,
            "linecolor": "white",
            "showbackground": true,
            "ticks": "",
            "zerolinecolor": "white"
           },
           "zaxis": {
            "backgroundcolor": "#E5ECF6",
            "gridcolor": "white",
            "gridwidth": 2,
            "linecolor": "white",
            "showbackground": true,
            "ticks": "",
            "zerolinecolor": "white"
           }
          },
          "shapedefaults": {
           "line": {
            "color": "#2a3f5f"
           }
          },
          "ternary": {
           "aaxis": {
            "gridcolor": "white",
            "linecolor": "white",
            "ticks": ""
           },
           "baxis": {
            "gridcolor": "white",
            "linecolor": "white",
            "ticks": ""
           },
           "bgcolor": "#E5ECF6",
           "caxis": {
            "gridcolor": "white",
            "linecolor": "white",
            "ticks": ""
           }
          },
          "title": {
           "x": 0.05
          },
          "xaxis": {
           "automargin": true,
           "gridcolor": "white",
           "linecolor": "white",
           "ticks": "",
           "title": {
            "standoff": 15
           },
           "zerolinecolor": "white",
           "zerolinewidth": 2
          },
          "yaxis": {
           "automargin": true,
           "gridcolor": "white",
           "linecolor": "white",
           "ticks": "",
           "title": {
            "standoff": 15
           },
           "zerolinecolor": "white",
           "zerolinewidth": 2
          }
         }
        },
        "title": {
         "text": "Transactions Above ₹500"
        }
       }
      }
     },
     "metadata": {},
     "output_type": "display_data"
    }
   ],
   "source": [
    "df['HighValue'] = df['Amount'] > 500\n",
    "value_count = df['HighValue'].value_counts().reset_index()\n",
    "value_count.columns = ['Above_500', 'Count']\n",
    "fig = px.pie(value_count, names='Above_500', values='Count', hole=0.4,\n",
    "             title='Transactions Above ₹500')\n",
    "fig.show()"
   ]
  },
  {
   "cell_type": "markdown",
   "id": "61ae9411",
   "metadata": {},
   "source": [
    "24.Top 5 users by total spending (Bar Chart)"
   ]
  },
  {
   "cell_type": "code",
   "execution_count": 64,
   "id": "1abd51a0",
   "metadata": {},
   "outputs": [
    {
     "data": {
      "application/vnd.plotly.v1+json": {
       "config": {
        "plotlyServerURL": "https://plot.ly"
       },
       "data": [
        {
         "hovertemplate": "TransactionID=%{x}<br>Amount=%{text}<extra></extra>",
         "legendgroup": "",
         "marker": {
          "color": "#636efa",
          "pattern": {
           "shape": ""
          }
         },
         "name": "",
         "orientation": "v",
         "showlegend": false,
         "text": {
          "bdata": "pHA9ChdjxkDXo3A96rPBQBSuR+E6kbdAMzMzM3OTsUCamZmZmT2fQA==",
          "dtype": "f8"
         },
         "textposition": "auto",
         "type": "bar",
         "x": [
          "TXN05132",
          "TXN07137",
          "TXN10178",
          "TXN04060",
          "TXN08534"
         ],
         "xaxis": "x",
         "y": {
          "bdata": "pHA9ChdjxkDXo3A96rPBQBSuR+E6kbdAMzMzM3OTsUCamZmZmT2fQA==",
          "dtype": "f8"
         },
         "yaxis": "y"
        }
       ],
       "layout": {
        "barmode": "relative",
        "legend": {
         "tracegroupgap": 0
        },
        "template": {
         "data": {
          "bar": [
           {
            "error_x": {
             "color": "#2a3f5f"
            },
            "error_y": {
             "color": "#2a3f5f"
            },
            "marker": {
             "line": {
              "color": "#E5ECF6",
              "width": 0.5
             },
             "pattern": {
              "fillmode": "overlay",
              "size": 10,
              "solidity": 0.2
             }
            },
            "type": "bar"
           }
          ],
          "barpolar": [
           {
            "marker": {
             "line": {
              "color": "#E5ECF6",
              "width": 0.5
             },
             "pattern": {
              "fillmode": "overlay",
              "size": 10,
              "solidity": 0.2
             }
            },
            "type": "barpolar"
           }
          ],
          "carpet": [
           {
            "aaxis": {
             "endlinecolor": "#2a3f5f",
             "gridcolor": "white",
             "linecolor": "white",
             "minorgridcolor": "white",
             "startlinecolor": "#2a3f5f"
            },
            "baxis": {
             "endlinecolor": "#2a3f5f",
             "gridcolor": "white",
             "linecolor": "white",
             "minorgridcolor": "white",
             "startlinecolor": "#2a3f5f"
            },
            "type": "carpet"
           }
          ],
          "choropleth": [
           {
            "colorbar": {
             "outlinewidth": 0,
             "ticks": ""
            },
            "type": "choropleth"
           }
          ],
          "contour": [
           {
            "colorbar": {
             "outlinewidth": 0,
             "ticks": ""
            },
            "colorscale": [
             [
              0,
              "#0d0887"
             ],
             [
              0.1111111111111111,
              "#46039f"
             ],
             [
              0.2222222222222222,
              "#7201a8"
             ],
             [
              0.3333333333333333,
              "#9c179e"
             ],
             [
              0.4444444444444444,
              "#bd3786"
             ],
             [
              0.5555555555555556,
              "#d8576b"
             ],
             [
              0.6666666666666666,
              "#ed7953"
             ],
             [
              0.7777777777777778,
              "#fb9f3a"
             ],
             [
              0.8888888888888888,
              "#fdca26"
             ],
             [
              1,
              "#f0f921"
             ]
            ],
            "type": "contour"
           }
          ],
          "contourcarpet": [
           {
            "colorbar": {
             "outlinewidth": 0,
             "ticks": ""
            },
            "type": "contourcarpet"
           }
          ],
          "heatmap": [
           {
            "colorbar": {
             "outlinewidth": 0,
             "ticks": ""
            },
            "colorscale": [
             [
              0,
              "#0d0887"
             ],
             [
              0.1111111111111111,
              "#46039f"
             ],
             [
              0.2222222222222222,
              "#7201a8"
             ],
             [
              0.3333333333333333,
              "#9c179e"
             ],
             [
              0.4444444444444444,
              "#bd3786"
             ],
             [
              0.5555555555555556,
              "#d8576b"
             ],
             [
              0.6666666666666666,
              "#ed7953"
             ],
             [
              0.7777777777777778,
              "#fb9f3a"
             ],
             [
              0.8888888888888888,
              "#fdca26"
             ],
             [
              1,
              "#f0f921"
             ]
            ],
            "type": "heatmap"
           }
          ],
          "histogram": [
           {
            "marker": {
             "pattern": {
              "fillmode": "overlay",
              "size": 10,
              "solidity": 0.2
             }
            },
            "type": "histogram"
           }
          ],
          "histogram2d": [
           {
            "colorbar": {
             "outlinewidth": 0,
             "ticks": ""
            },
            "colorscale": [
             [
              0,
              "#0d0887"
             ],
             [
              0.1111111111111111,
              "#46039f"
             ],
             [
              0.2222222222222222,
              "#7201a8"
             ],
             [
              0.3333333333333333,
              "#9c179e"
             ],
             [
              0.4444444444444444,
              "#bd3786"
             ],
             [
              0.5555555555555556,
              "#d8576b"
             ],
             [
              0.6666666666666666,
              "#ed7953"
             ],
             [
              0.7777777777777778,
              "#fb9f3a"
             ],
             [
              0.8888888888888888,
              "#fdca26"
             ],
             [
              1,
              "#f0f921"
             ]
            ],
            "type": "histogram2d"
           }
          ],
          "histogram2dcontour": [
           {
            "colorbar": {
             "outlinewidth": 0,
             "ticks": ""
            },
            "colorscale": [
             [
              0,
              "#0d0887"
             ],
             [
              0.1111111111111111,
              "#46039f"
             ],
             [
              0.2222222222222222,
              "#7201a8"
             ],
             [
              0.3333333333333333,
              "#9c179e"
             ],
             [
              0.4444444444444444,
              "#bd3786"
             ],
             [
              0.5555555555555556,
              "#d8576b"
             ],
             [
              0.6666666666666666,
              "#ed7953"
             ],
             [
              0.7777777777777778,
              "#fb9f3a"
             ],
             [
              0.8888888888888888,
              "#fdca26"
             ],
             [
              1,
              "#f0f921"
             ]
            ],
            "type": "histogram2dcontour"
           }
          ],
          "mesh3d": [
           {
            "colorbar": {
             "outlinewidth": 0,
             "ticks": ""
            },
            "type": "mesh3d"
           }
          ],
          "parcoords": [
           {
            "line": {
             "colorbar": {
              "outlinewidth": 0,
              "ticks": ""
             }
            },
            "type": "parcoords"
           }
          ],
          "pie": [
           {
            "automargin": true,
            "type": "pie"
           }
          ],
          "scatter": [
           {
            "fillpattern": {
             "fillmode": "overlay",
             "size": 10,
             "solidity": 0.2
            },
            "type": "scatter"
           }
          ],
          "scatter3d": [
           {
            "line": {
             "colorbar": {
              "outlinewidth": 0,
              "ticks": ""
             }
            },
            "marker": {
             "colorbar": {
              "outlinewidth": 0,
              "ticks": ""
             }
            },
            "type": "scatter3d"
           }
          ],
          "scattercarpet": [
           {
            "marker": {
             "colorbar": {
              "outlinewidth": 0,
              "ticks": ""
             }
            },
            "type": "scattercarpet"
           }
          ],
          "scattergeo": [
           {
            "marker": {
             "colorbar": {
              "outlinewidth": 0,
              "ticks": ""
             }
            },
            "type": "scattergeo"
           }
          ],
          "scattergl": [
           {
            "marker": {
             "colorbar": {
              "outlinewidth": 0,
              "ticks": ""
             }
            },
            "type": "scattergl"
           }
          ],
          "scattermap": [
           {
            "marker": {
             "colorbar": {
              "outlinewidth": 0,
              "ticks": ""
             }
            },
            "type": "scattermap"
           }
          ],
          "scattermapbox": [
           {
            "marker": {
             "colorbar": {
              "outlinewidth": 0,
              "ticks": ""
             }
            },
            "type": "scattermapbox"
           }
          ],
          "scatterpolar": [
           {
            "marker": {
             "colorbar": {
              "outlinewidth": 0,
              "ticks": ""
             }
            },
            "type": "scatterpolar"
           }
          ],
          "scatterpolargl": [
           {
            "marker": {
             "colorbar": {
              "outlinewidth": 0,
              "ticks": ""
             }
            },
            "type": "scatterpolargl"
           }
          ],
          "scatterternary": [
           {
            "marker": {
             "colorbar": {
              "outlinewidth": 0,
              "ticks": ""
             }
            },
            "type": "scatterternary"
           }
          ],
          "surface": [
           {
            "colorbar": {
             "outlinewidth": 0,
             "ticks": ""
            },
            "colorscale": [
             [
              0,
              "#0d0887"
             ],
             [
              0.1111111111111111,
              "#46039f"
             ],
             [
              0.2222222222222222,
              "#7201a8"
             ],
             [
              0.3333333333333333,
              "#9c179e"
             ],
             [
              0.4444444444444444,
              "#bd3786"
             ],
             [
              0.5555555555555556,
              "#d8576b"
             ],
             [
              0.6666666666666666,
              "#ed7953"
             ],
             [
              0.7777777777777778,
              "#fb9f3a"
             ],
             [
              0.8888888888888888,
              "#fdca26"
             ],
             [
              1,
              "#f0f921"
             ]
            ],
            "type": "surface"
           }
          ],
          "table": [
           {
            "cells": {
             "fill": {
              "color": "#EBF0F8"
             },
             "line": {
              "color": "white"
             }
            },
            "header": {
             "fill": {
              "color": "#C8D4E3"
             },
             "line": {
              "color": "white"
             }
            },
            "type": "table"
           }
          ]
         },
         "layout": {
          "annotationdefaults": {
           "arrowcolor": "#2a3f5f",
           "arrowhead": 0,
           "arrowwidth": 1
          },
          "autotypenumbers": "strict",
          "coloraxis": {
           "colorbar": {
            "outlinewidth": 0,
            "ticks": ""
           }
          },
          "colorscale": {
           "diverging": [
            [
             0,
             "#8e0152"
            ],
            [
             0.1,
             "#c51b7d"
            ],
            [
             0.2,
             "#de77ae"
            ],
            [
             0.3,
             "#f1b6da"
            ],
            [
             0.4,
             "#fde0ef"
            ],
            [
             0.5,
             "#f7f7f7"
            ],
            [
             0.6,
             "#e6f5d0"
            ],
            [
             0.7,
             "#b8e186"
            ],
            [
             0.8,
             "#7fbc41"
            ],
            [
             0.9,
             "#4d9221"
            ],
            [
             1,
             "#276419"
            ]
           ],
           "sequential": [
            [
             0,
             "#0d0887"
            ],
            [
             0.1111111111111111,
             "#46039f"
            ],
            [
             0.2222222222222222,
             "#7201a8"
            ],
            [
             0.3333333333333333,
             "#9c179e"
            ],
            [
             0.4444444444444444,
             "#bd3786"
            ],
            [
             0.5555555555555556,
             "#d8576b"
            ],
            [
             0.6666666666666666,
             "#ed7953"
            ],
            [
             0.7777777777777778,
             "#fb9f3a"
            ],
            [
             0.8888888888888888,
             "#fdca26"
            ],
            [
             1,
             "#f0f921"
            ]
           ],
           "sequentialminus": [
            [
             0,
             "#0d0887"
            ],
            [
             0.1111111111111111,
             "#46039f"
            ],
            [
             0.2222222222222222,
             "#7201a8"
            ],
            [
             0.3333333333333333,
             "#9c179e"
            ],
            [
             0.4444444444444444,
             "#bd3786"
            ],
            [
             0.5555555555555556,
             "#d8576b"
            ],
            [
             0.6666666666666666,
             "#ed7953"
            ],
            [
             0.7777777777777778,
             "#fb9f3a"
            ],
            [
             0.8888888888888888,
             "#fdca26"
            ],
            [
             1,
             "#f0f921"
            ]
           ]
          },
          "colorway": [
           "#636efa",
           "#EF553B",
           "#00cc96",
           "#ab63fa",
           "#FFA15A",
           "#19d3f3",
           "#FF6692",
           "#B6E880",
           "#FF97FF",
           "#FECB52"
          ],
          "font": {
           "color": "#2a3f5f"
          },
          "geo": {
           "bgcolor": "white",
           "lakecolor": "white",
           "landcolor": "#E5ECF6",
           "showlakes": true,
           "showland": true,
           "subunitcolor": "white"
          },
          "hoverlabel": {
           "align": "left"
          },
          "hovermode": "closest",
          "mapbox": {
           "style": "light"
          },
          "paper_bgcolor": "white",
          "plot_bgcolor": "#E5ECF6",
          "polar": {
           "angularaxis": {
            "gridcolor": "white",
            "linecolor": "white",
            "ticks": ""
           },
           "bgcolor": "#E5ECF6",
           "radialaxis": {
            "gridcolor": "white",
            "linecolor": "white",
            "ticks": ""
           }
          },
          "scene": {
           "xaxis": {
            "backgroundcolor": "#E5ECF6",
            "gridcolor": "white",
            "gridwidth": 2,
            "linecolor": "white",
            "showbackground": true,
            "ticks": "",
            "zerolinecolor": "white"
           },
           "yaxis": {
            "backgroundcolor": "#E5ECF6",
            "gridcolor": "white",
            "gridwidth": 2,
            "linecolor": "white",
            "showbackground": true,
            "ticks": "",
            "zerolinecolor": "white"
           },
           "zaxis": {
            "backgroundcolor": "#E5ECF6",
            "gridcolor": "white",
            "gridwidth": 2,
            "linecolor": "white",
            "showbackground": true,
            "ticks": "",
            "zerolinecolor": "white"
           }
          },
          "shapedefaults": {
           "line": {
            "color": "#2a3f5f"
           }
          },
          "ternary": {
           "aaxis": {
            "gridcolor": "white",
            "linecolor": "white",
            "ticks": ""
           },
           "baxis": {
            "gridcolor": "white",
            "linecolor": "white",
            "ticks": ""
           },
           "bgcolor": "#E5ECF6",
           "caxis": {
            "gridcolor": "white",
            "linecolor": "white",
            "ticks": ""
           }
          },
          "title": {
           "x": 0.05
          },
          "xaxis": {
           "automargin": true,
           "gridcolor": "white",
           "linecolor": "white",
           "ticks": "",
           "title": {
            "standoff": 15
           },
           "zerolinecolor": "white",
           "zerolinewidth": 2
          },
          "yaxis": {
           "automargin": true,
           "gridcolor": "white",
           "linecolor": "white",
           "ticks": "",
           "title": {
            "standoff": 15
           },
           "zerolinecolor": "white",
           "zerolinewidth": 2
          }
         }
        },
        "title": {
         "text": "Top 5 Users by Total Spending"
        },
        "xaxis": {
         "anchor": "y",
         "domain": [
          0,
          1
         ],
         "title": {
          "text": "TransactionID"
         }
        },
        "yaxis": {
         "anchor": "x",
         "domain": [
          0,
          1
         ],
         "title": {
          "text": "Amount"
         }
        }
       }
      }
     },
     "metadata": {},
     "output_type": "display_data"
    }
   ],
   "source": [
    "top_spenders = df.groupby('TransactionID')['Amount'].sum().sort_values(ascending=False).head(5).reset_index()\n",
    "fig = px.bar(top_spenders, x='TransactionID', y='Amount',\n",
    "             title='Top 5 Users by Total Spending', text='Amount')\n",
    "fig.show()"
   ]
  },
  {
   "cell_type": "markdown",
   "id": "809100d1",
   "metadata": {},
   "source": [
    "25.How are P2P and P2M transactions distributed (Pie Chart)"
   ]
  },
  {
   "cell_type": "code",
   "execution_count": 67,
   "id": "413a7615",
   "metadata": {},
   "outputs": [
    {
     "data": {
      "application/vnd.plotly.v1+json": {
       "config": {
        "plotlyServerURL": "https://plot.ly"
       },
       "data": [
        {
         "hovertemplate": "TransactionType=%{x}<br>Count=%{y}<extra></extra>",
         "legendgroup": "",
         "marker": {
          "color": "#636efa",
          "symbol": "circle"
         },
         "mode": "markers",
         "name": "",
         "orientation": "v",
         "showlegend": false,
         "type": "scatter",
         "x": [
          "Payment",
          "Transfer"
         ],
         "xaxis": "x",
         "y": {
          "bdata": "MyftJg==",
          "dtype": "i2"
         },
         "yaxis": "y"
        }
       ],
       "layout": {
        "legend": {
         "tracegroupgap": 0
        },
        "template": {
         "data": {
          "bar": [
           {
            "error_x": {
             "color": "#2a3f5f"
            },
            "error_y": {
             "color": "#2a3f5f"
            },
            "marker": {
             "line": {
              "color": "#E5ECF6",
              "width": 0.5
             },
             "pattern": {
              "fillmode": "overlay",
              "size": 10,
              "solidity": 0.2
             }
            },
            "type": "bar"
           }
          ],
          "barpolar": [
           {
            "marker": {
             "line": {
              "color": "#E5ECF6",
              "width": 0.5
             },
             "pattern": {
              "fillmode": "overlay",
              "size": 10,
              "solidity": 0.2
             }
            },
            "type": "barpolar"
           }
          ],
          "carpet": [
           {
            "aaxis": {
             "endlinecolor": "#2a3f5f",
             "gridcolor": "white",
             "linecolor": "white",
             "minorgridcolor": "white",
             "startlinecolor": "#2a3f5f"
            },
            "baxis": {
             "endlinecolor": "#2a3f5f",
             "gridcolor": "white",
             "linecolor": "white",
             "minorgridcolor": "white",
             "startlinecolor": "#2a3f5f"
            },
            "type": "carpet"
           }
          ],
          "choropleth": [
           {
            "colorbar": {
             "outlinewidth": 0,
             "ticks": ""
            },
            "type": "choropleth"
           }
          ],
          "contour": [
           {
            "colorbar": {
             "outlinewidth": 0,
             "ticks": ""
            },
            "colorscale": [
             [
              0,
              "#0d0887"
             ],
             [
              0.1111111111111111,
              "#46039f"
             ],
             [
              0.2222222222222222,
              "#7201a8"
             ],
             [
              0.3333333333333333,
              "#9c179e"
             ],
             [
              0.4444444444444444,
              "#bd3786"
             ],
             [
              0.5555555555555556,
              "#d8576b"
             ],
             [
              0.6666666666666666,
              "#ed7953"
             ],
             [
              0.7777777777777778,
              "#fb9f3a"
             ],
             [
              0.8888888888888888,
              "#fdca26"
             ],
             [
              1,
              "#f0f921"
             ]
            ],
            "type": "contour"
           }
          ],
          "contourcarpet": [
           {
            "colorbar": {
             "outlinewidth": 0,
             "ticks": ""
            },
            "type": "contourcarpet"
           }
          ],
          "heatmap": [
           {
            "colorbar": {
             "outlinewidth": 0,
             "ticks": ""
            },
            "colorscale": [
             [
              0,
              "#0d0887"
             ],
             [
              0.1111111111111111,
              "#46039f"
             ],
             [
              0.2222222222222222,
              "#7201a8"
             ],
             [
              0.3333333333333333,
              "#9c179e"
             ],
             [
              0.4444444444444444,
              "#bd3786"
             ],
             [
              0.5555555555555556,
              "#d8576b"
             ],
             [
              0.6666666666666666,
              "#ed7953"
             ],
             [
              0.7777777777777778,
              "#fb9f3a"
             ],
             [
              0.8888888888888888,
              "#fdca26"
             ],
             [
              1,
              "#f0f921"
             ]
            ],
            "type": "heatmap"
           }
          ],
          "histogram": [
           {
            "marker": {
             "pattern": {
              "fillmode": "overlay",
              "size": 10,
              "solidity": 0.2
             }
            },
            "type": "histogram"
           }
          ],
          "histogram2d": [
           {
            "colorbar": {
             "outlinewidth": 0,
             "ticks": ""
            },
            "colorscale": [
             [
              0,
              "#0d0887"
             ],
             [
              0.1111111111111111,
              "#46039f"
             ],
             [
              0.2222222222222222,
              "#7201a8"
             ],
             [
              0.3333333333333333,
              "#9c179e"
             ],
             [
              0.4444444444444444,
              "#bd3786"
             ],
             [
              0.5555555555555556,
              "#d8576b"
             ],
             [
              0.6666666666666666,
              "#ed7953"
             ],
             [
              0.7777777777777778,
              "#fb9f3a"
             ],
             [
              0.8888888888888888,
              "#fdca26"
             ],
             [
              1,
              "#f0f921"
             ]
            ],
            "type": "histogram2d"
           }
          ],
          "histogram2dcontour": [
           {
            "colorbar": {
             "outlinewidth": 0,
             "ticks": ""
            },
            "colorscale": [
             [
              0,
              "#0d0887"
             ],
             [
              0.1111111111111111,
              "#46039f"
             ],
             [
              0.2222222222222222,
              "#7201a8"
             ],
             [
              0.3333333333333333,
              "#9c179e"
             ],
             [
              0.4444444444444444,
              "#bd3786"
             ],
             [
              0.5555555555555556,
              "#d8576b"
             ],
             [
              0.6666666666666666,
              "#ed7953"
             ],
             [
              0.7777777777777778,
              "#fb9f3a"
             ],
             [
              0.8888888888888888,
              "#fdca26"
             ],
             [
              1,
              "#f0f921"
             ]
            ],
            "type": "histogram2dcontour"
           }
          ],
          "mesh3d": [
           {
            "colorbar": {
             "outlinewidth": 0,
             "ticks": ""
            },
            "type": "mesh3d"
           }
          ],
          "parcoords": [
           {
            "line": {
             "colorbar": {
              "outlinewidth": 0,
              "ticks": ""
             }
            },
            "type": "parcoords"
           }
          ],
          "pie": [
           {
            "automargin": true,
            "type": "pie"
           }
          ],
          "scatter": [
           {
            "fillpattern": {
             "fillmode": "overlay",
             "size": 10,
             "solidity": 0.2
            },
            "type": "scatter"
           }
          ],
          "scatter3d": [
           {
            "line": {
             "colorbar": {
              "outlinewidth": 0,
              "ticks": ""
             }
            },
            "marker": {
             "colorbar": {
              "outlinewidth": 0,
              "ticks": ""
             }
            },
            "type": "scatter3d"
           }
          ],
          "scattercarpet": [
           {
            "marker": {
             "colorbar": {
              "outlinewidth": 0,
              "ticks": ""
             }
            },
            "type": "scattercarpet"
           }
          ],
          "scattergeo": [
           {
            "marker": {
             "colorbar": {
              "outlinewidth": 0,
              "ticks": ""
             }
            },
            "type": "scattergeo"
           }
          ],
          "scattergl": [
           {
            "marker": {
             "colorbar": {
              "outlinewidth": 0,
              "ticks": ""
             }
            },
            "type": "scattergl"
           }
          ],
          "scattermap": [
           {
            "marker": {
             "colorbar": {
              "outlinewidth": 0,
              "ticks": ""
             }
            },
            "type": "scattermap"
           }
          ],
          "scattermapbox": [
           {
            "marker": {
             "colorbar": {
              "outlinewidth": 0,
              "ticks": ""
             }
            },
            "type": "scattermapbox"
           }
          ],
          "scatterpolar": [
           {
            "marker": {
             "colorbar": {
              "outlinewidth": 0,
              "ticks": ""
             }
            },
            "type": "scatterpolar"
           }
          ],
          "scatterpolargl": [
           {
            "marker": {
             "colorbar": {
              "outlinewidth": 0,
              "ticks": ""
             }
            },
            "type": "scatterpolargl"
           }
          ],
          "scatterternary": [
           {
            "marker": {
             "colorbar": {
              "outlinewidth": 0,
              "ticks": ""
             }
            },
            "type": "scatterternary"
           }
          ],
          "surface": [
           {
            "colorbar": {
             "outlinewidth": 0,
             "ticks": ""
            },
            "colorscale": [
             [
              0,
              "#0d0887"
             ],
             [
              0.1111111111111111,
              "#46039f"
             ],
             [
              0.2222222222222222,
              "#7201a8"
             ],
             [
              0.3333333333333333,
              "#9c179e"
             ],
             [
              0.4444444444444444,
              "#bd3786"
             ],
             [
              0.5555555555555556,
              "#d8576b"
             ],
             [
              0.6666666666666666,
              "#ed7953"
             ],
             [
              0.7777777777777778,
              "#fb9f3a"
             ],
             [
              0.8888888888888888,
              "#fdca26"
             ],
             [
              1,
              "#f0f921"
             ]
            ],
            "type": "surface"
           }
          ],
          "table": [
           {
            "cells": {
             "fill": {
              "color": "#EBF0F8"
             },
             "line": {
              "color": "white"
             }
            },
            "header": {
             "fill": {
              "color": "#C8D4E3"
             },
             "line": {
              "color": "white"
             }
            },
            "type": "table"
           }
          ]
         },
         "layout": {
          "annotationdefaults": {
           "arrowcolor": "#2a3f5f",
           "arrowhead": 0,
           "arrowwidth": 1
          },
          "autotypenumbers": "strict",
          "coloraxis": {
           "colorbar": {
            "outlinewidth": 0,
            "ticks": ""
           }
          },
          "colorscale": {
           "diverging": [
            [
             0,
             "#8e0152"
            ],
            [
             0.1,
             "#c51b7d"
            ],
            [
             0.2,
             "#de77ae"
            ],
            [
             0.3,
             "#f1b6da"
            ],
            [
             0.4,
             "#fde0ef"
            ],
            [
             0.5,
             "#f7f7f7"
            ],
            [
             0.6,
             "#e6f5d0"
            ],
            [
             0.7,
             "#b8e186"
            ],
            [
             0.8,
             "#7fbc41"
            ],
            [
             0.9,
             "#4d9221"
            ],
            [
             1,
             "#276419"
            ]
           ],
           "sequential": [
            [
             0,
             "#0d0887"
            ],
            [
             0.1111111111111111,
             "#46039f"
            ],
            [
             0.2222222222222222,
             "#7201a8"
            ],
            [
             0.3333333333333333,
             "#9c179e"
            ],
            [
             0.4444444444444444,
             "#bd3786"
            ],
            [
             0.5555555555555556,
             "#d8576b"
            ],
            [
             0.6666666666666666,
             "#ed7953"
            ],
            [
             0.7777777777777778,
             "#fb9f3a"
            ],
            [
             0.8888888888888888,
             "#fdca26"
            ],
            [
             1,
             "#f0f921"
            ]
           ],
           "sequentialminus": [
            [
             0,
             "#0d0887"
            ],
            [
             0.1111111111111111,
             "#46039f"
            ],
            [
             0.2222222222222222,
             "#7201a8"
            ],
            [
             0.3333333333333333,
             "#9c179e"
            ],
            [
             0.4444444444444444,
             "#bd3786"
            ],
            [
             0.5555555555555556,
             "#d8576b"
            ],
            [
             0.6666666666666666,
             "#ed7953"
            ],
            [
             0.7777777777777778,
             "#fb9f3a"
            ],
            [
             0.8888888888888888,
             "#fdca26"
            ],
            [
             1,
             "#f0f921"
            ]
           ]
          },
          "colorway": [
           "#636efa",
           "#EF553B",
           "#00cc96",
           "#ab63fa",
           "#FFA15A",
           "#19d3f3",
           "#FF6692",
           "#B6E880",
           "#FF97FF",
           "#FECB52"
          ],
          "font": {
           "color": "#2a3f5f"
          },
          "geo": {
           "bgcolor": "white",
           "lakecolor": "white",
           "landcolor": "#E5ECF6",
           "showlakes": true,
           "showland": true,
           "subunitcolor": "white"
          },
          "hoverlabel": {
           "align": "left"
          },
          "hovermode": "closest",
          "mapbox": {
           "style": "light"
          },
          "paper_bgcolor": "white",
          "plot_bgcolor": "#E5ECF6",
          "polar": {
           "angularaxis": {
            "gridcolor": "white",
            "linecolor": "white",
            "ticks": ""
           },
           "bgcolor": "#E5ECF6",
           "radialaxis": {
            "gridcolor": "white",
            "linecolor": "white",
            "ticks": ""
           }
          },
          "scene": {
           "xaxis": {
            "backgroundcolor": "#E5ECF6",
            "gridcolor": "white",
            "gridwidth": 2,
            "linecolor": "white",
            "showbackground": true,
            "ticks": "",
            "zerolinecolor": "white"
           },
           "yaxis": {
            "backgroundcolor": "#E5ECF6",
            "gridcolor": "white",
            "gridwidth": 2,
            "linecolor": "white",
            "showbackground": true,
            "ticks": "",
            "zerolinecolor": "white"
           },
           "zaxis": {
            "backgroundcolor": "#E5ECF6",
            "gridcolor": "white",
            "gridwidth": 2,
            "linecolor": "white",
            "showbackground": true,
            "ticks": "",
            "zerolinecolor": "white"
           }
          },
          "shapedefaults": {
           "line": {
            "color": "#2a3f5f"
           }
          },
          "ternary": {
           "aaxis": {
            "gridcolor": "white",
            "linecolor": "white",
            "ticks": ""
           },
           "baxis": {
            "gridcolor": "white",
            "linecolor": "white",
            "ticks": ""
           },
           "bgcolor": "#E5ECF6",
           "caxis": {
            "gridcolor": "white",
            "linecolor": "white",
            "ticks": ""
           }
          },
          "title": {
           "x": 0.05
          },
          "xaxis": {
           "automargin": true,
           "gridcolor": "white",
           "linecolor": "white",
           "ticks": "",
           "title": {
            "standoff": 15
           },
           "zerolinecolor": "white",
           "zerolinewidth": 2
          },
          "yaxis": {
           "automargin": true,
           "gridcolor": "white",
           "linecolor": "white",
           "ticks": "",
           "title": {
            "standoff": 15
           },
           "zerolinecolor": "white",
           "zerolinewidth": 2
          }
         }
        },
        "title": {
         "text": "P2P vs P2M Transactions"
        },
        "xaxis": {
         "anchor": "y",
         "domain": [
          0,
          1
         ],
         "title": {
          "text": "TransactionType"
         }
        },
        "yaxis": {
         "anchor": "x",
         "domain": [
          0,
          1
         ],
         "title": {
          "text": "Count"
         }
        }
       }
      }
     },
     "metadata": {},
     "output_type": "display_data"
    }
   ],
   "source": [
    "txn_type = df['TransactionType'].value_counts().reset_index()\n",
    "txn_type.columns = ['TransactionType', 'Count']\n",
    "fig = px.scatter(txn_type, x='TransactionType', y='Count',\n",
    "                 title='P2P vs P2M Transactions', size_max=10)\n",
    "fig.show()"
   ]
  },
  {
   "cell_type": "markdown",
   "id": "3a70453b",
   "metadata": {},
   "source": [
    "Conclusion\n",
    "\n",
    "The UPI Transaction Data Analysis provided valuable insights into the usage patterns and behaviors of users across different cities, time periods, transaction types, and platforms. By analyzing real-world UPI data, we were able to:\n",
    "\n",
    "Understand peak hours and most active days for digital payments.\n",
    "\n",
    "Identify top-performing banks, frequently used merchants, and preferred device types.\n",
    "\n",
    "Highlight the gender-wise and city-wise usage trends of UPI services.\n",
    "\n",
    "Compare the success and failure rates of transactions to assess reliability.\n",
    "\n",
    "Track user spending habits and transaction preferences (P2P vs P2M).\n",
    "\n",
    "Overall, the analysis revealed that UPI is not just a payment tool but a powerful driver of digital transformation in India. The findings from this project can help businesses, banks, and digital platforms improve their services, reduce transaction failures, and enhance user satisfaction."
   ]
  }
 ],
 "metadata": {
  "kernelspec": {
   "display_name": "Python 3",
   "language": "python",
   "name": "python3"
  },
  "language_info": {
   "codemirror_mode": {
    "name": "ipython",
    "version": 3
   },
   "file_extension": ".py",
   "mimetype": "text/x-python",
   "name": "python",
   "nbconvert_exporter": "python",
   "pygments_lexer": "ipython3",
   "version": "3.12.0"
  }
 },
 "nbformat": 4,
 "nbformat_minor": 5
}
